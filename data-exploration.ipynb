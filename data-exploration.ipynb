{
 "cells": [
  {
   "cell_type": "code",
   "execution_count": 1,
   "metadata": {},
   "outputs": [],
   "source": [
    "import json\n",
    "import plotly.express as px\n",
    "import plotly.graph_objects as go\n",
    "import pandas as pd\n",
    "import ast\n",
    "\n",
    "from utils import get_df_for_benchmark, performance_score, shorten_gpu_name\n",
    "\n",
    "salad_green = \"#53a626\""
   ]
  },
  {
   "cell_type": "code",
   "execution_count": 2,
   "metadata": {},
   "outputs": [
    {
     "name": "stdout",
     "output_type": "stream",
     "text": [
      "Loading data from data-1.csv\n",
      "<class 'pandas.core.frame.DataFrame'>\n",
      "RangeIndex: 6211843 entries, 0 to 6211842\n",
      "Data columns (total 10 columns):\n",
      " #   Column                    Dtype  \n",
      "---  ------                    -----  \n",
      " 0   word_count                int64  \n",
      " 1   audio_url                 object \n",
      " 2   gpu-name                  object \n",
      " 3   salad-machine-id          object \n",
      " 4   salad-container-group-id  object \n",
      " 5   processing-time           float64\n",
      " 6   audio-length              float64\n",
      " 7   realtime-factor           float64\n",
      " 8   model-id                  object \n",
      " 9   timestamp                 object \n",
      "dtypes: float64(3), int64(1), object(6)\n",
      "memory usage: 473.9+ MB\n"
     ]
    }
   ],
   "source": [
    "benchmark_id = \"asr-benchmark-0\"\n",
    "\n",
    "# if data-1.csv exists, load it\n",
    "try:\n",
    "    print(\"Loading data from data-1.csv\")\n",
    "    df = pd.read_csv(\"./data-1.csv\")\n",
    "    # df[\"timestamp\"] = pd.to_datetime(df[\"timestamp\"])\n",
    "except FileNotFoundError:\n",
    "    # otherwise, get the data from the API\n",
    "    print(\"Cached CSV not found. Loading data from DynamoDB\")\n",
    "    df = get_df_for_benchmark(benchmark_id)\n",
    "    df.to_csv(\"./data-1.csv\", index=False)\n",
    "except Exception as e:\n",
    "    print(\"Error loading data from CSV.\")\n",
    "    print(e)\n",
    "\n",
    "df.info()"
   ]
  },
  {
   "cell_type": "code",
   "execution_count": 3,
   "metadata": {},
   "outputs": [
    {
     "data": {
      "text/html": [
       "<div>\n",
       "<style scoped>\n",
       "    .dataframe tbody tr th:only-of-type {\n",
       "        vertical-align: middle;\n",
       "    }\n",
       "\n",
       "    .dataframe tbody tr th {\n",
       "        vertical-align: top;\n",
       "    }\n",
       "\n",
       "    .dataframe thead th {\n",
       "        text-align: right;\n",
       "    }\n",
       "</style>\n",
       "<table border=\"1\" class=\"dataframe\">\n",
       "  <thead>\n",
       "    <tr style=\"text-align: right;\">\n",
       "      <th></th>\n",
       "      <th>word_count</th>\n",
       "      <th>audio_url</th>\n",
       "      <th>gpu-name</th>\n",
       "      <th>salad-machine-id</th>\n",
       "      <th>salad-container-group-id</th>\n",
       "      <th>processing-time</th>\n",
       "      <th>audio-length</th>\n",
       "      <th>realtime-factor</th>\n",
       "      <th>model-id</th>\n",
       "      <th>timestamp</th>\n",
       "    </tr>\n",
       "  </thead>\n",
       "  <tbody>\n",
       "    <tr>\n",
       "      <th>0</th>\n",
       "      <td>5</td>\n",
       "      <td>https://salad-benchmark-assets.download/cv-cor...</td>\n",
       "      <td>NVIDIA GeForce RTX 3060</td>\n",
       "      <td>7bdde317-315a-3754-a2ca-7f4fcb039a66</td>\n",
       "      <td>5b91a69e-c1af-4eba-858c-d7804ebf07c1</td>\n",
       "      <td>0.522115</td>\n",
       "      <td>2.208</td>\n",
       "      <td>4.228951</td>\n",
       "      <td>distil-whisper/distil-large-v2</td>\n",
       "      <td>2024-01-19 15:41:04.384</td>\n",
       "    </tr>\n",
       "    <tr>\n",
       "      <th>1</th>\n",
       "      <td>6</td>\n",
       "      <td>https://salad-benchmark-assets.download/cv-cor...</td>\n",
       "      <td>NVIDIA GeForce RTX 3090</td>\n",
       "      <td>c1f1bfa1-4176-5656-8666-900b737ce222</td>\n",
       "      <td>5b91a69e-c1af-4eba-858c-d7804ebf07c1</td>\n",
       "      <td>0.297142</td>\n",
       "      <td>3.072</td>\n",
       "      <td>10.338493</td>\n",
       "      <td>distil-whisper/distil-large-v2</td>\n",
       "      <td>2024-01-19 15:41:04.384</td>\n",
       "    </tr>\n",
       "    <tr>\n",
       "      <th>2</th>\n",
       "      <td>12</td>\n",
       "      <td>https://salad-benchmark-assets.download/cv-cor...</td>\n",
       "      <td>NVIDIA GeForce RTX 3090</td>\n",
       "      <td>c1f1bfa1-4176-5656-8666-900b737ce222</td>\n",
       "      <td>5b91a69e-c1af-4eba-858c-d7804ebf07c1</td>\n",
       "      <td>0.367148</td>\n",
       "      <td>6.840</td>\n",
       "      <td>18.630111</td>\n",
       "      <td>distil-whisper/distil-large-v2</td>\n",
       "      <td>2024-01-19 15:41:04.384</td>\n",
       "    </tr>\n",
       "    <tr>\n",
       "      <th>3</th>\n",
       "      <td>6</td>\n",
       "      <td>https://salad-benchmark-assets.download/cv-cor...</td>\n",
       "      <td>NVIDIA GeForce RTX 3060</td>\n",
       "      <td>7bdde317-315a-3754-a2ca-7f4fcb039a66</td>\n",
       "      <td>5b91a69e-c1af-4eba-858c-d7804ebf07c1</td>\n",
       "      <td>0.501609</td>\n",
       "      <td>2.592</td>\n",
       "      <td>5.167367</td>\n",
       "      <td>distil-whisper/distil-large-v2</td>\n",
       "      <td>2024-01-19 15:41:04.384</td>\n",
       "    </tr>\n",
       "    <tr>\n",
       "      <th>4</th>\n",
       "      <td>10</td>\n",
       "      <td>https://salad-benchmark-assets.download/cv-cor...</td>\n",
       "      <td>NVIDIA GeForce RTX 3090</td>\n",
       "      <td>c1f1bfa1-4176-5656-8666-900b737ce222</td>\n",
       "      <td>5b91a69e-c1af-4eba-858c-d7804ebf07c1</td>\n",
       "      <td>0.361526</td>\n",
       "      <td>5.472</td>\n",
       "      <td>15.135854</td>\n",
       "      <td>distil-whisper/distil-large-v2</td>\n",
       "      <td>2024-01-19 15:41:04.384</td>\n",
       "    </tr>\n",
       "  </tbody>\n",
       "</table>\n",
       "</div>"
      ],
      "text/plain": [
       "   word_count                                          audio_url  \\\n",
       "0           5  https://salad-benchmark-assets.download/cv-cor...   \n",
       "1           6  https://salad-benchmark-assets.download/cv-cor...   \n",
       "2          12  https://salad-benchmark-assets.download/cv-cor...   \n",
       "3           6  https://salad-benchmark-assets.download/cv-cor...   \n",
       "4          10  https://salad-benchmark-assets.download/cv-cor...   \n",
       "\n",
       "                  gpu-name                      salad-machine-id  \\\n",
       "0  NVIDIA GeForce RTX 3060  7bdde317-315a-3754-a2ca-7f4fcb039a66   \n",
       "1  NVIDIA GeForce RTX 3090  c1f1bfa1-4176-5656-8666-900b737ce222   \n",
       "2  NVIDIA GeForce RTX 3090  c1f1bfa1-4176-5656-8666-900b737ce222   \n",
       "3  NVIDIA GeForce RTX 3060  7bdde317-315a-3754-a2ca-7f4fcb039a66   \n",
       "4  NVIDIA GeForce RTX 3090  c1f1bfa1-4176-5656-8666-900b737ce222   \n",
       "\n",
       "               salad-container-group-id  processing-time  audio-length  \\\n",
       "0  5b91a69e-c1af-4eba-858c-d7804ebf07c1         0.522115         2.208   \n",
       "1  5b91a69e-c1af-4eba-858c-d7804ebf07c1         0.297142         3.072   \n",
       "2  5b91a69e-c1af-4eba-858c-d7804ebf07c1         0.367148         6.840   \n",
       "3  5b91a69e-c1af-4eba-858c-d7804ebf07c1         0.501609         2.592   \n",
       "4  5b91a69e-c1af-4eba-858c-d7804ebf07c1         0.361526         5.472   \n",
       "\n",
       "   realtime-factor                        model-id                timestamp  \n",
       "0         4.228951  distil-whisper/distil-large-v2  2024-01-19 15:41:04.384  \n",
       "1        10.338493  distil-whisper/distil-large-v2  2024-01-19 15:41:04.384  \n",
       "2        18.630111  distil-whisper/distil-large-v2  2024-01-19 15:41:04.384  \n",
       "3         5.167367  distil-whisper/distil-large-v2  2024-01-19 15:41:04.384  \n",
       "4        15.135854  distil-whisper/distil-large-v2  2024-01-19 15:41:04.384  "
      ]
     },
     "execution_count": 3,
     "metadata": {},
     "output_type": "execute_result"
    }
   ],
   "source": [
    "df.head(5)"
   ]
  },
  {
   "cell_type": "code",
   "execution_count": 4,
   "metadata": {},
   "outputs": [
    {
     "name": "stdout",
     "output_type": "stream",
     "text": [
      "<class 'pandas.core.frame.DataFrame'>\n",
      "RangeIndex: 6211843 entries, 0 to 6211842\n",
      "Data columns (total 10 columns):\n",
      " #   Column                    Dtype  \n",
      "---  ------                    -----  \n",
      " 0   word_count                int64  \n",
      " 1   audio_url                 object \n",
      " 2   gpu-name                  object \n",
      " 3   salad-machine-id          object \n",
      " 4   salad-container-group-id  object \n",
      " 5   processing-time           float64\n",
      " 6   audio-length              float64\n",
      " 7   realtime-factor           float64\n",
      " 8   model-id                  object \n",
      " 9   timestamp                 object \n",
      "dtypes: float64(3), int64(1), object(6)\n",
      "memory usage: 473.9+ MB\n"
     ]
    }
   ],
   "source": [
    "# Convert number fields to numbers\n",
    "df[\"processing-time\"] = pd.to_numeric(df[\"processing-time\"])\n",
    "df[\"audio-length\"] = pd.to_numeric(df[\"audio-length\"])\n",
    "df[\"realtime-factor\"] = pd.to_numeric(df[\"realtime-factor\"])\n",
    "df[\"word_count\"] = pd.to_numeric(df[\"word_count\"])\n",
    "df[\"gpu-name\"] = df[\"gpu-name\"].apply(shorten_gpu_name)\n",
    "df.info()"
   ]
  },
  {
   "cell_type": "code",
   "execution_count": 6,
   "metadata": {},
   "outputs": [
    {
     "data": {
      "text/html": [
       "<div>\n",
       "<style scoped>\n",
       "    .dataframe tbody tr th:only-of-type {\n",
       "        vertical-align: middle;\n",
       "    }\n",
       "\n",
       "    .dataframe tbody tr th {\n",
       "        vertical-align: top;\n",
       "    }\n",
       "\n",
       "    .dataframe thead th {\n",
       "        text-align: right;\n",
       "    }\n",
       "</style>\n",
       "<table border=\"1\" class=\"dataframe\">\n",
       "  <thead>\n",
       "    <tr style=\"text-align: right;\">\n",
       "      <th></th>\n",
       "      <th>word_count</th>\n",
       "      <th>audio_url</th>\n",
       "      <th>gpu-name</th>\n",
       "      <th>salad-machine-id</th>\n",
       "      <th>salad-container-group-id</th>\n",
       "      <th>processing-time</th>\n",
       "      <th>audio-length</th>\n",
       "      <th>realtime-factor</th>\n",
       "      <th>model-id</th>\n",
       "      <th>timestamp</th>\n",
       "    </tr>\n",
       "  </thead>\n",
       "  <tbody>\n",
       "    <tr>\n",
       "      <th>1015677</th>\n",
       "      <td>5</td>\n",
       "      <td>https://salad-benchmark-assets.download/cv-cor...</td>\n",
       "      <td>CUDA is not available</td>\n",
       "      <td>b280852f-ca32-d059-a47c-fe5d9e0cc245</td>\n",
       "      <td>5b91a69e-c1af-4eba-858c-d7804ebf07c1</td>\n",
       "      <td>24.699671</td>\n",
       "      <td>2.616</td>\n",
       "      <td>0.105912</td>\n",
       "      <td>distil-whisper/distil-large-v2</td>\n",
       "      <td>2024-01-19 17:34:40.128</td>\n",
       "    </tr>\n",
       "    <tr>\n",
       "      <th>990538</th>\n",
       "      <td>8</td>\n",
       "      <td>https://salad-benchmark-assets.download/cv-cor...</td>\n",
       "      <td>CUDA is not available</td>\n",
       "      <td>b280852f-ca32-d059-a47c-fe5d9e0cc245</td>\n",
       "      <td>5b91a69e-c1af-4eba-858c-d7804ebf07c1</td>\n",
       "      <td>25.421842</td>\n",
       "      <td>5.160</td>\n",
       "      <td>0.202975</td>\n",
       "      <td>distil-whisper/distil-large-v2</td>\n",
       "      <td>2024-01-19 17:32:29.056</td>\n",
       "    </tr>\n",
       "    <tr>\n",
       "      <th>719292</th>\n",
       "      <td>6</td>\n",
       "      <td>https://salad-benchmark-assets.download/cv-cor...</td>\n",
       "      <td>CUDA is not available</td>\n",
       "      <td>b280852f-ca32-d059-a47c-fe5d9e0cc245</td>\n",
       "      <td>5b91a69e-c1af-4eba-858c-d7804ebf07c1</td>\n",
       "      <td>26.311758</td>\n",
       "      <td>3.096</td>\n",
       "      <td>0.117666</td>\n",
       "      <td>distil-whisper/distil-large-v2</td>\n",
       "      <td>2024-01-19 17:06:16.192</td>\n",
       "    </tr>\n",
       "    <tr>\n",
       "      <th>866654</th>\n",
       "      <td>9</td>\n",
       "      <td>https://salad-benchmark-assets.download/cv-cor...</td>\n",
       "      <td>CUDA is not available</td>\n",
       "      <td>b280852f-ca32-d059-a47c-fe5d9e0cc245</td>\n",
       "      <td>5b91a69e-c1af-4eba-858c-d7804ebf07c1</td>\n",
       "      <td>26.304561</td>\n",
       "      <td>3.888</td>\n",
       "      <td>0.147807</td>\n",
       "      <td>distil-whisper/distil-large-v2</td>\n",
       "      <td>2024-01-19 17:21:33.696</td>\n",
       "    </tr>\n",
       "    <tr>\n",
       "      <th>1181843</th>\n",
       "      <td>22</td>\n",
       "      <td>https://salad-benchmark-assets.download/cv-cor...</td>\n",
       "      <td>CUDA is not available</td>\n",
       "      <td>c6803b68-1e41-fa53-8c3a-f94ee2f0c099</td>\n",
       "      <td>5b91a69e-c1af-4eba-858c-d7804ebf07c1</td>\n",
       "      <td>23.005830</td>\n",
       "      <td>13.488</td>\n",
       "      <td>0.586286</td>\n",
       "      <td>distil-whisper/distil-large-v2</td>\n",
       "      <td>2024-01-19 17:52:08.704</td>\n",
       "    </tr>\n",
       "  </tbody>\n",
       "</table>\n",
       "</div>"
      ],
      "text/plain": [
       "         word_count                                          audio_url  \\\n",
       "1015677           5  https://salad-benchmark-assets.download/cv-cor...   \n",
       "990538            8  https://salad-benchmark-assets.download/cv-cor...   \n",
       "719292            6  https://salad-benchmark-assets.download/cv-cor...   \n",
       "866654            9  https://salad-benchmark-assets.download/cv-cor...   \n",
       "1181843          22  https://salad-benchmark-assets.download/cv-cor...   \n",
       "\n",
       "                      gpu-name                      salad-machine-id  \\\n",
       "1015677  CUDA is not available  b280852f-ca32-d059-a47c-fe5d9e0cc245   \n",
       "990538   CUDA is not available  b280852f-ca32-d059-a47c-fe5d9e0cc245   \n",
       "719292   CUDA is not available  b280852f-ca32-d059-a47c-fe5d9e0cc245   \n",
       "866654   CUDA is not available  b280852f-ca32-d059-a47c-fe5d9e0cc245   \n",
       "1181843  CUDA is not available  c6803b68-1e41-fa53-8c3a-f94ee2f0c099   \n",
       "\n",
       "                     salad-container-group-id  processing-time  audio-length  \\\n",
       "1015677  5b91a69e-c1af-4eba-858c-d7804ebf07c1        24.699671         2.616   \n",
       "990538   5b91a69e-c1af-4eba-858c-d7804ebf07c1        25.421842         5.160   \n",
       "719292   5b91a69e-c1af-4eba-858c-d7804ebf07c1        26.311758         3.096   \n",
       "866654   5b91a69e-c1af-4eba-858c-d7804ebf07c1        26.304561         3.888   \n",
       "1181843  5b91a69e-c1af-4eba-858c-d7804ebf07c1        23.005830        13.488   \n",
       "\n",
       "         realtime-factor                        model-id  \\\n",
       "1015677         0.105912  distil-whisper/distil-large-v2   \n",
       "990538          0.202975  distil-whisper/distil-large-v2   \n",
       "719292          0.117666  distil-whisper/distil-large-v2   \n",
       "866654          0.147807  distil-whisper/distil-large-v2   \n",
       "1181843         0.586286  distil-whisper/distil-large-v2   \n",
       "\n",
       "                       timestamp  \n",
       "1015677  2024-01-19 17:34:40.128  \n",
       "990538   2024-01-19 17:32:29.056  \n",
       "719292   2024-01-19 17:06:16.192  \n",
       "866654   2024-01-19 17:21:33.696  \n",
       "1181843  2024-01-19 17:52:08.704  "
      ]
     },
     "execution_count": 6,
     "metadata": {},
     "output_type": "execute_result"
    }
   ],
   "source": [
    "# sort the df by gpu name\n",
    "df = df.sort_values(by=[\"gpu-name\"])\n",
    "\n",
    "df.head()"
   ]
  },
  {
   "cell_type": "code",
   "execution_count": 7,
   "metadata": {},
   "outputs": [
    {
     "name": "stdout",
     "output_type": "stream",
     "text": [
      "Found 4 nodes with no CUDA available:\n",
      "['b280852f-ca32-d059-a47c-fe5d9e0cc245'\n",
      " 'c6803b68-1e41-fa53-8c3a-f94ee2f0c099'\n",
      " '0e903c8f-881b-cf5f-8268-8ba4c9d2a5d1'\n",
      " '962697ea-8198-fa5f-8de4-3b30190c2f95']\n"
     ]
    }
   ],
   "source": [
    "# I want the number of unique machine Ids that have a gpu name of \"CUDa is not available\"\n",
    "bad_nodes = df[df[\"gpu-name\"] == \"CUDA is not available\"][\"salad-machine-id\"].unique()\n",
    "\n",
    "print(f\"Found {len(bad_nodes)} nodes with no CUDA available:\")\n",
    "print(bad_nodes)"
   ]
  },
  {
   "cell_type": "code",
   "execution_count": 8,
   "metadata": {},
   "outputs": [
    {
     "name": "stdout",
     "output_type": "stream",
     "text": [
      "Found 446 jobs with no CUDA available\n"
     ]
    }
   ],
   "source": [
    "# How many rows have a gpu name of \"CUDA is not available\"?\n",
    "num_bad_jobs = len(df[df[\"gpu-name\"] == \"CUDA is not available\"])\n",
    "print(f\"Found {num_bad_jobs} jobs with no CUDA available\")"
   ]
  },
  {
   "cell_type": "code",
   "execution_count": 10,
   "metadata": {},
   "outputs": [
    {
     "name": "stdout",
     "output_type": "stream",
     "text": [
      "Loading data from ./data-2.csv\n",
      "<class 'pandas.core.frame.DataFrame'>\n",
      "RangeIndex: 6211397 entries, 0 to 6211396\n",
      "Data columns (total 10 columns):\n",
      " #   Column                    Dtype  \n",
      "---  ------                    -----  \n",
      " 0   word_count                int64  \n",
      " 1   audio_url                 object \n",
      " 2   gpu-name                  object \n",
      " 3   salad-machine-id          object \n",
      " 4   salad-container-group-id  object \n",
      " 5   processing-time           float64\n",
      " 6   audio-length              float64\n",
      " 7   realtime-factor           float64\n",
      " 8   model-id                  object \n",
      " 9   timestamp                 object \n",
      "dtypes: float64(3), int64(1), object(6)\n",
      "memory usage: 473.9+ MB\n"
     ]
    }
   ],
   "source": [
    "data2 = \"./data-2.csv\"\n",
    "\n",
    "try:\n",
    "    print(f\"Loading data from {data2}\")\n",
    "    df = pd.read_csv(data2)\n",
    "    # df[\"timestamp\"] = pd.to_datetime(df[\"timestamp\"])\n",
    "except FileNotFoundError:\n",
    "    # otherwise, get the data from the API\n",
    "    print(\"Cached CSV not found. Sorting data by GPU name.\")\n",
    "    \n",
    "    df = df[df[\"gpu-name\"] != \"CUDA is not available\"]\n",
    "    # reset the index\n",
    "    df = df.reset_index(drop=True)\n",
    "    df.to_csv(data2, index=False)\n",
    "except Exception as e:\n",
    "    print(\"Error loading data from CSV.\")\n",
    "    print(e)\n",
    "\n",
    "df.info()\n"
   ]
  },
  {
   "cell_type": "code",
   "execution_count": 11,
   "metadata": {},
   "outputs": [
    {
     "data": {
      "text/html": [
       "<div>\n",
       "<style scoped>\n",
       "    .dataframe tbody tr th:only-of-type {\n",
       "        vertical-align: middle;\n",
       "    }\n",
       "\n",
       "    .dataframe tbody tr th {\n",
       "        vertical-align: top;\n",
       "    }\n",
       "\n",
       "    .dataframe thead th {\n",
       "        text-align: right;\n",
       "    }\n",
       "</style>\n",
       "<table border=\"1\" class=\"dataframe\">\n",
       "  <thead>\n",
       "    <tr style=\"text-align: right;\">\n",
       "      <th></th>\n",
       "      <th>word_count</th>\n",
       "      <th>audio_url</th>\n",
       "      <th>gpu-name</th>\n",
       "      <th>salad-machine-id</th>\n",
       "      <th>salad-container-group-id</th>\n",
       "      <th>processing-time</th>\n",
       "      <th>audio-length</th>\n",
       "      <th>realtime-factor</th>\n",
       "      <th>model-id</th>\n",
       "      <th>timestamp</th>\n",
       "    </tr>\n",
       "  </thead>\n",
       "  <tbody>\n",
       "    <tr>\n",
       "      <th>0</th>\n",
       "      <td>8</td>\n",
       "      <td>https://salad-benchmark-assets.download/cv-cor...</td>\n",
       "      <td>RTX 2080</td>\n",
       "      <td>f40a40ae-7cab-765c-b7eb-936fcccc16a1</td>\n",
       "      <td>5b91a69e-c1af-4eba-858c-d7804ebf07c1</td>\n",
       "      <td>0.424131</td>\n",
       "      <td>3.768</td>\n",
       "      <td>8.884056</td>\n",
       "      <td>distil-whisper/distil-large-v2</td>\n",
       "      <td>2024-01-19 16:59:42.976</td>\n",
       "    </tr>\n",
       "    <tr>\n",
       "      <th>1</th>\n",
       "      <td>5</td>\n",
       "      <td>https://salad-benchmark-assets.download/cv-cor...</td>\n",
       "      <td>RTX 2080</td>\n",
       "      <td>9f001f54-13e0-085f-a0a3-56dc10c75988</td>\n",
       "      <td>5b91a69e-c1af-4eba-858c-d7804ebf07c1</td>\n",
       "      <td>0.373203</td>\n",
       "      <td>3.336</td>\n",
       "      <td>8.938835</td>\n",
       "      <td>distil-whisper/distil-large-v2</td>\n",
       "      <td>2024-01-19 16:24:45.824</td>\n",
       "    </tr>\n",
       "    <tr>\n",
       "      <th>2</th>\n",
       "      <td>15</td>\n",
       "      <td>https://salad-benchmark-assets.download/cv-cor...</td>\n",
       "      <td>RTX 2080</td>\n",
       "      <td>f40a40ae-7cab-765c-b7eb-936fcccc16a1</td>\n",
       "      <td>5b91a69e-c1af-4eba-858c-d7804ebf07c1</td>\n",
       "      <td>0.444092</td>\n",
       "      <td>5.208</td>\n",
       "      <td>11.727290</td>\n",
       "      <td>distil-whisper/distil-large-v2</td>\n",
       "      <td>2024-01-19 17:12:49.408</td>\n",
       "    </tr>\n",
       "    <tr>\n",
       "      <th>3</th>\n",
       "      <td>8</td>\n",
       "      <td>https://salad-benchmark-assets.download/cv-cor...</td>\n",
       "      <td>RTX 2080</td>\n",
       "      <td>f40a40ae-7cab-765c-b7eb-936fcccc16a1</td>\n",
       "      <td>5b91a69e-c1af-4eba-858c-d7804ebf07c1</td>\n",
       "      <td>0.393454</td>\n",
       "      <td>3.456</td>\n",
       "      <td>8.783741</td>\n",
       "      <td>distil-whisper/distil-large-v2</td>\n",
       "      <td>2024-01-19 16:59:42.976</td>\n",
       "    </tr>\n",
       "    <tr>\n",
       "      <th>4</th>\n",
       "      <td>12</td>\n",
       "      <td>https://salad-benchmark-assets.download/cv-cor...</td>\n",
       "      <td>RTX 2080</td>\n",
       "      <td>251e26e1-526d-9f57-9baa-3964d9249517</td>\n",
       "      <td>5b91a69e-c1af-4eba-858c-d7804ebf07c1</td>\n",
       "      <td>0.459638</td>\n",
       "      <td>6.672</td>\n",
       "      <td>14.515771</td>\n",
       "      <td>distil-whisper/distil-large-v2</td>\n",
       "      <td>2024-01-20 01:44:00.256</td>\n",
       "    </tr>\n",
       "  </tbody>\n",
       "</table>\n",
       "</div>"
      ],
      "text/plain": [
       "   word_count                                          audio_url  gpu-name  \\\n",
       "0           8  https://salad-benchmark-assets.download/cv-cor...  RTX 2080   \n",
       "1           5  https://salad-benchmark-assets.download/cv-cor...  RTX 2080   \n",
       "2          15  https://salad-benchmark-assets.download/cv-cor...  RTX 2080   \n",
       "3           8  https://salad-benchmark-assets.download/cv-cor...  RTX 2080   \n",
       "4          12  https://salad-benchmark-assets.download/cv-cor...  RTX 2080   \n",
       "\n",
       "                       salad-machine-id              salad-container-group-id  \\\n",
       "0  f40a40ae-7cab-765c-b7eb-936fcccc16a1  5b91a69e-c1af-4eba-858c-d7804ebf07c1   \n",
       "1  9f001f54-13e0-085f-a0a3-56dc10c75988  5b91a69e-c1af-4eba-858c-d7804ebf07c1   \n",
       "2  f40a40ae-7cab-765c-b7eb-936fcccc16a1  5b91a69e-c1af-4eba-858c-d7804ebf07c1   \n",
       "3  f40a40ae-7cab-765c-b7eb-936fcccc16a1  5b91a69e-c1af-4eba-858c-d7804ebf07c1   \n",
       "4  251e26e1-526d-9f57-9baa-3964d9249517  5b91a69e-c1af-4eba-858c-d7804ebf07c1   \n",
       "\n",
       "   processing-time  audio-length  realtime-factor  \\\n",
       "0         0.424131         3.768         8.884056   \n",
       "1         0.373203         3.336         8.938835   \n",
       "2         0.444092         5.208        11.727290   \n",
       "3         0.393454         3.456         8.783741   \n",
       "4         0.459638         6.672        14.515771   \n",
       "\n",
       "                         model-id                timestamp  \n",
       "0  distil-whisper/distil-large-v2  2024-01-19 16:59:42.976  \n",
       "1  distil-whisper/distil-large-v2  2024-01-19 16:24:45.824  \n",
       "2  distil-whisper/distil-large-v2  2024-01-19 17:12:49.408  \n",
       "3  distil-whisper/distil-large-v2  2024-01-19 16:59:42.976  \n",
       "4  distil-whisper/distil-large-v2  2024-01-20 01:44:00.256  "
      ]
     },
     "execution_count": 11,
     "metadata": {},
     "output_type": "execute_result"
    }
   ],
   "source": [
    "df.head()"
   ]
  },
  {
   "cell_type": "code",
   "execution_count": 13,
   "metadata": {},
   "outputs": [
    {
     "data": {
      "application/vnd.plotly.v1+json": {
       "config": {
        "plotlyServerURL": "https://plot.ly"
       },
       "data": [
        {
         "alignmentgroup": "True",
         "hovertemplate": "gpu-name=%{x}<br>count=%{y}<extra></extra>",
         "legendgroup": "",
         "marker": {
          "color": "#53a626",
          "pattern": {
           "shape": ""
          }
         },
         "name": "",
         "offsetgroup": "",
         "orientation": "v",
         "showlegend": false,
         "textposition": "auto",
         "type": "bar",
         "x": [
          "RTX 2080",
          "RTX 2080 Ti",
          "RTX 3060",
          "RTX 3060 Ti",
          "RTX 3070",
          "RTX 3070 Laptop",
          "RTX 3070 Ti",
          "RTX 3070 Ti Laptop",
          "RTX 3080",
          "RTX 3080 Laptop",
          "RTX 3080 Ti",
          "RTX 3080 Ti Laptop",
          "RTX 3090",
          "RTX 3090 Ti",
          "RTX 4060",
          "RTX 4060 Laptop",
          "RTX 4060 Ti",
          "RTX 4070",
          "RTX 4070 Laptop",
          "RTX 4070 Ti",
          "RTX 4080",
          "RTX 4090",
          "RTX 4090 Laptop"
         ],
         "xaxis": "x",
         "y": [
          32779,
          17600,
          1505087,
          689438,
          468796,
          117740,
          123614,
          14220,
          650167,
          65793,
          411050,
          21026,
          251302,
          39637,
          228949,
          48536,
          184911,
          558203,
          87328,
          335888,
          322291,
          24069,
          12973
         ],
         "yaxis": "y"
        }
       ],
       "layout": {
        "barmode": "relative",
        "legend": {
         "tracegroupgap": 0
        },
        "template": {
         "data": {
          "bar": [
           {
            "error_x": {
             "color": "#2a3f5f"
            },
            "error_y": {
             "color": "#2a3f5f"
            },
            "marker": {
             "line": {
              "color": "#E5ECF6",
              "width": 0.5
             },
             "pattern": {
              "fillmode": "overlay",
              "size": 10,
              "solidity": 0.2
             }
            },
            "type": "bar"
           }
          ],
          "barpolar": [
           {
            "marker": {
             "line": {
              "color": "#E5ECF6",
              "width": 0.5
             },
             "pattern": {
              "fillmode": "overlay",
              "size": 10,
              "solidity": 0.2
             }
            },
            "type": "barpolar"
           }
          ],
          "carpet": [
           {
            "aaxis": {
             "endlinecolor": "#2a3f5f",
             "gridcolor": "white",
             "linecolor": "white",
             "minorgridcolor": "white",
             "startlinecolor": "#2a3f5f"
            },
            "baxis": {
             "endlinecolor": "#2a3f5f",
             "gridcolor": "white",
             "linecolor": "white",
             "minorgridcolor": "white",
             "startlinecolor": "#2a3f5f"
            },
            "type": "carpet"
           }
          ],
          "choropleth": [
           {
            "colorbar": {
             "outlinewidth": 0,
             "ticks": ""
            },
            "type": "choropleth"
           }
          ],
          "contour": [
           {
            "colorbar": {
             "outlinewidth": 0,
             "ticks": ""
            },
            "colorscale": [
             [
              0,
              "#0d0887"
             ],
             [
              0.1111111111111111,
              "#46039f"
             ],
             [
              0.2222222222222222,
              "#7201a8"
             ],
             [
              0.3333333333333333,
              "#9c179e"
             ],
             [
              0.4444444444444444,
              "#bd3786"
             ],
             [
              0.5555555555555556,
              "#d8576b"
             ],
             [
              0.6666666666666666,
              "#ed7953"
             ],
             [
              0.7777777777777778,
              "#fb9f3a"
             ],
             [
              0.8888888888888888,
              "#fdca26"
             ],
             [
              1,
              "#f0f921"
             ]
            ],
            "type": "contour"
           }
          ],
          "contourcarpet": [
           {
            "colorbar": {
             "outlinewidth": 0,
             "ticks": ""
            },
            "type": "contourcarpet"
           }
          ],
          "heatmap": [
           {
            "colorbar": {
             "outlinewidth": 0,
             "ticks": ""
            },
            "colorscale": [
             [
              0,
              "#0d0887"
             ],
             [
              0.1111111111111111,
              "#46039f"
             ],
             [
              0.2222222222222222,
              "#7201a8"
             ],
             [
              0.3333333333333333,
              "#9c179e"
             ],
             [
              0.4444444444444444,
              "#bd3786"
             ],
             [
              0.5555555555555556,
              "#d8576b"
             ],
             [
              0.6666666666666666,
              "#ed7953"
             ],
             [
              0.7777777777777778,
              "#fb9f3a"
             ],
             [
              0.8888888888888888,
              "#fdca26"
             ],
             [
              1,
              "#f0f921"
             ]
            ],
            "type": "heatmap"
           }
          ],
          "heatmapgl": [
           {
            "colorbar": {
             "outlinewidth": 0,
             "ticks": ""
            },
            "colorscale": [
             [
              0,
              "#0d0887"
             ],
             [
              0.1111111111111111,
              "#46039f"
             ],
             [
              0.2222222222222222,
              "#7201a8"
             ],
             [
              0.3333333333333333,
              "#9c179e"
             ],
             [
              0.4444444444444444,
              "#bd3786"
             ],
             [
              0.5555555555555556,
              "#d8576b"
             ],
             [
              0.6666666666666666,
              "#ed7953"
             ],
             [
              0.7777777777777778,
              "#fb9f3a"
             ],
             [
              0.8888888888888888,
              "#fdca26"
             ],
             [
              1,
              "#f0f921"
             ]
            ],
            "type": "heatmapgl"
           }
          ],
          "histogram": [
           {
            "marker": {
             "pattern": {
              "fillmode": "overlay",
              "size": 10,
              "solidity": 0.2
             }
            },
            "type": "histogram"
           }
          ],
          "histogram2d": [
           {
            "colorbar": {
             "outlinewidth": 0,
             "ticks": ""
            },
            "colorscale": [
             [
              0,
              "#0d0887"
             ],
             [
              0.1111111111111111,
              "#46039f"
             ],
             [
              0.2222222222222222,
              "#7201a8"
             ],
             [
              0.3333333333333333,
              "#9c179e"
             ],
             [
              0.4444444444444444,
              "#bd3786"
             ],
             [
              0.5555555555555556,
              "#d8576b"
             ],
             [
              0.6666666666666666,
              "#ed7953"
             ],
             [
              0.7777777777777778,
              "#fb9f3a"
             ],
             [
              0.8888888888888888,
              "#fdca26"
             ],
             [
              1,
              "#f0f921"
             ]
            ],
            "type": "histogram2d"
           }
          ],
          "histogram2dcontour": [
           {
            "colorbar": {
             "outlinewidth": 0,
             "ticks": ""
            },
            "colorscale": [
             [
              0,
              "#0d0887"
             ],
             [
              0.1111111111111111,
              "#46039f"
             ],
             [
              0.2222222222222222,
              "#7201a8"
             ],
             [
              0.3333333333333333,
              "#9c179e"
             ],
             [
              0.4444444444444444,
              "#bd3786"
             ],
             [
              0.5555555555555556,
              "#d8576b"
             ],
             [
              0.6666666666666666,
              "#ed7953"
             ],
             [
              0.7777777777777778,
              "#fb9f3a"
             ],
             [
              0.8888888888888888,
              "#fdca26"
             ],
             [
              1,
              "#f0f921"
             ]
            ],
            "type": "histogram2dcontour"
           }
          ],
          "mesh3d": [
           {
            "colorbar": {
             "outlinewidth": 0,
             "ticks": ""
            },
            "type": "mesh3d"
           }
          ],
          "parcoords": [
           {
            "line": {
             "colorbar": {
              "outlinewidth": 0,
              "ticks": ""
             }
            },
            "type": "parcoords"
           }
          ],
          "pie": [
           {
            "automargin": true,
            "type": "pie"
           }
          ],
          "scatter": [
           {
            "fillpattern": {
             "fillmode": "overlay",
             "size": 10,
             "solidity": 0.2
            },
            "type": "scatter"
           }
          ],
          "scatter3d": [
           {
            "line": {
             "colorbar": {
              "outlinewidth": 0,
              "ticks": ""
             }
            },
            "marker": {
             "colorbar": {
              "outlinewidth": 0,
              "ticks": ""
             }
            },
            "type": "scatter3d"
           }
          ],
          "scattercarpet": [
           {
            "marker": {
             "colorbar": {
              "outlinewidth": 0,
              "ticks": ""
             }
            },
            "type": "scattercarpet"
           }
          ],
          "scattergeo": [
           {
            "marker": {
             "colorbar": {
              "outlinewidth": 0,
              "ticks": ""
             }
            },
            "type": "scattergeo"
           }
          ],
          "scattergl": [
           {
            "marker": {
             "colorbar": {
              "outlinewidth": 0,
              "ticks": ""
             }
            },
            "type": "scattergl"
           }
          ],
          "scattermapbox": [
           {
            "marker": {
             "colorbar": {
              "outlinewidth": 0,
              "ticks": ""
             }
            },
            "type": "scattermapbox"
           }
          ],
          "scatterpolar": [
           {
            "marker": {
             "colorbar": {
              "outlinewidth": 0,
              "ticks": ""
             }
            },
            "type": "scatterpolar"
           }
          ],
          "scatterpolargl": [
           {
            "marker": {
             "colorbar": {
              "outlinewidth": 0,
              "ticks": ""
             }
            },
            "type": "scatterpolargl"
           }
          ],
          "scatterternary": [
           {
            "marker": {
             "colorbar": {
              "outlinewidth": 0,
              "ticks": ""
             }
            },
            "type": "scatterternary"
           }
          ],
          "surface": [
           {
            "colorbar": {
             "outlinewidth": 0,
             "ticks": ""
            },
            "colorscale": [
             [
              0,
              "#0d0887"
             ],
             [
              0.1111111111111111,
              "#46039f"
             ],
             [
              0.2222222222222222,
              "#7201a8"
             ],
             [
              0.3333333333333333,
              "#9c179e"
             ],
             [
              0.4444444444444444,
              "#bd3786"
             ],
             [
              0.5555555555555556,
              "#d8576b"
             ],
             [
              0.6666666666666666,
              "#ed7953"
             ],
             [
              0.7777777777777778,
              "#fb9f3a"
             ],
             [
              0.8888888888888888,
              "#fdca26"
             ],
             [
              1,
              "#f0f921"
             ]
            ],
            "type": "surface"
           }
          ],
          "table": [
           {
            "cells": {
             "fill": {
              "color": "#EBF0F8"
             },
             "line": {
              "color": "white"
             }
            },
            "header": {
             "fill": {
              "color": "#C8D4E3"
             },
             "line": {
              "color": "white"
             }
            },
            "type": "table"
           }
          ]
         },
         "layout": {
          "annotationdefaults": {
           "arrowcolor": "#2a3f5f",
           "arrowhead": 0,
           "arrowwidth": 1
          },
          "autotypenumbers": "strict",
          "coloraxis": {
           "colorbar": {
            "outlinewidth": 0,
            "ticks": ""
           }
          },
          "colorscale": {
           "diverging": [
            [
             0,
             "#8e0152"
            ],
            [
             0.1,
             "#c51b7d"
            ],
            [
             0.2,
             "#de77ae"
            ],
            [
             0.3,
             "#f1b6da"
            ],
            [
             0.4,
             "#fde0ef"
            ],
            [
             0.5,
             "#f7f7f7"
            ],
            [
             0.6,
             "#e6f5d0"
            ],
            [
             0.7,
             "#b8e186"
            ],
            [
             0.8,
             "#7fbc41"
            ],
            [
             0.9,
             "#4d9221"
            ],
            [
             1,
             "#276419"
            ]
           ],
           "sequential": [
            [
             0,
             "#0d0887"
            ],
            [
             0.1111111111111111,
             "#46039f"
            ],
            [
             0.2222222222222222,
             "#7201a8"
            ],
            [
             0.3333333333333333,
             "#9c179e"
            ],
            [
             0.4444444444444444,
             "#bd3786"
            ],
            [
             0.5555555555555556,
             "#d8576b"
            ],
            [
             0.6666666666666666,
             "#ed7953"
            ],
            [
             0.7777777777777778,
             "#fb9f3a"
            ],
            [
             0.8888888888888888,
             "#fdca26"
            ],
            [
             1,
             "#f0f921"
            ]
           ],
           "sequentialminus": [
            [
             0,
             "#0d0887"
            ],
            [
             0.1111111111111111,
             "#46039f"
            ],
            [
             0.2222222222222222,
             "#7201a8"
            ],
            [
             0.3333333333333333,
             "#9c179e"
            ],
            [
             0.4444444444444444,
             "#bd3786"
            ],
            [
             0.5555555555555556,
             "#d8576b"
            ],
            [
             0.6666666666666666,
             "#ed7953"
            ],
            [
             0.7777777777777778,
             "#fb9f3a"
            ],
            [
             0.8888888888888888,
             "#fdca26"
            ],
            [
             1,
             "#f0f921"
            ]
           ]
          },
          "colorway": [
           "#636efa",
           "#EF553B",
           "#00cc96",
           "#ab63fa",
           "#FFA15A",
           "#19d3f3",
           "#FF6692",
           "#B6E880",
           "#FF97FF",
           "#FECB52"
          ],
          "font": {
           "color": "#2a3f5f"
          },
          "geo": {
           "bgcolor": "white",
           "lakecolor": "white",
           "landcolor": "#E5ECF6",
           "showlakes": true,
           "showland": true,
           "subunitcolor": "white"
          },
          "hoverlabel": {
           "align": "left"
          },
          "hovermode": "closest",
          "mapbox": {
           "style": "light"
          },
          "paper_bgcolor": "white",
          "plot_bgcolor": "#E5ECF6",
          "polar": {
           "angularaxis": {
            "gridcolor": "white",
            "linecolor": "white",
            "ticks": ""
           },
           "bgcolor": "#E5ECF6",
           "radialaxis": {
            "gridcolor": "white",
            "linecolor": "white",
            "ticks": ""
           }
          },
          "scene": {
           "xaxis": {
            "backgroundcolor": "#E5ECF6",
            "gridcolor": "white",
            "gridwidth": 2,
            "linecolor": "white",
            "showbackground": true,
            "ticks": "",
            "zerolinecolor": "white"
           },
           "yaxis": {
            "backgroundcolor": "#E5ECF6",
            "gridcolor": "white",
            "gridwidth": 2,
            "linecolor": "white",
            "showbackground": true,
            "ticks": "",
            "zerolinecolor": "white"
           },
           "zaxis": {
            "backgroundcolor": "#E5ECF6",
            "gridcolor": "white",
            "gridwidth": 2,
            "linecolor": "white",
            "showbackground": true,
            "ticks": "",
            "zerolinecolor": "white"
           }
          },
          "shapedefaults": {
           "line": {
            "color": "#2a3f5f"
           }
          },
          "ternary": {
           "aaxis": {
            "gridcolor": "white",
            "linecolor": "white",
            "ticks": ""
           },
           "baxis": {
            "gridcolor": "white",
            "linecolor": "white",
            "ticks": ""
           },
           "bgcolor": "#E5ECF6",
           "caxis": {
            "gridcolor": "white",
            "linecolor": "white",
            "ticks": ""
           }
          },
          "title": {
           "x": 0.05
          },
          "xaxis": {
           "automargin": true,
           "gridcolor": "white",
           "linecolor": "white",
           "ticks": "",
           "title": {
            "standoff": 15
           },
           "zerolinecolor": "white",
           "zerolinewidth": 2
          },
          "yaxis": {
           "automargin": true,
           "gridcolor": "white",
           "linecolor": "white",
           "ticks": "",
           "title": {
            "standoff": 15
           },
           "zerolinecolor": "white",
           "zerolinewidth": 2
          }
         }
        },
        "title": {
         "text": "Number of Inferences Completed by GPU"
        },
        "xaxis": {
         "anchor": "y",
         "domain": [
          0,
          1
         ],
         "title": {
          "text": "gpu-name"
         }
        },
        "yaxis": {
         "anchor": "x",
         "domain": [
          0,
          1
         ],
         "title": {
          "text": "count"
         }
        }
       }
      },
      "text/html": [
       "<div>                            <div id=\"5785c1e5-5079-4163-a7c8-1c38b885ee32\" class=\"plotly-graph-div\" style=\"height:525px; width:100%;\"></div>            <script type=\"text/javascript\">                require([\"plotly\"], function(Plotly) {                    window.PLOTLYENV=window.PLOTLYENV || {};                                    if (document.getElementById(\"5785c1e5-5079-4163-a7c8-1c38b885ee32\")) {                    Plotly.newPlot(                        \"5785c1e5-5079-4163-a7c8-1c38b885ee32\",                        [{\"alignmentgroup\":\"True\",\"hovertemplate\":\"gpu-name=%{x}\\u003cbr\\u003ecount=%{y}\\u003cextra\\u003e\\u003c\\u002fextra\\u003e\",\"legendgroup\":\"\",\"marker\":{\"color\":\"#53a626\",\"pattern\":{\"shape\":\"\"}},\"name\":\"\",\"offsetgroup\":\"\",\"orientation\":\"v\",\"showlegend\":false,\"textposition\":\"auto\",\"x\":[\"RTX 2080\",\"RTX 2080 Ti\",\"RTX 3060\",\"RTX 3060 Ti\",\"RTX 3070\",\"RTX 3070 Laptop\",\"RTX 3070 Ti\",\"RTX 3070 Ti Laptop\",\"RTX 3080\",\"RTX 3080 Laptop\",\"RTX 3080 Ti\",\"RTX 3080 Ti Laptop\",\"RTX 3090\",\"RTX 3090 Ti\",\"RTX 4060\",\"RTX 4060 Laptop\",\"RTX 4060 Ti\",\"RTX 4070\",\"RTX 4070 Laptop\",\"RTX 4070 Ti\",\"RTX 4080\",\"RTX 4090\",\"RTX 4090 Laptop\"],\"xaxis\":\"x\",\"y\":[32779,17600,1505087,689438,468796,117740,123614,14220,650167,65793,411050,21026,251302,39637,228949,48536,184911,558203,87328,335888,322291,24069,12973],\"yaxis\":\"y\",\"type\":\"bar\"}],                        {\"template\":{\"data\":{\"histogram2dcontour\":[{\"type\":\"histogram2dcontour\",\"colorbar\":{\"outlinewidth\":0,\"ticks\":\"\"},\"colorscale\":[[0.0,\"#0d0887\"],[0.1111111111111111,\"#46039f\"],[0.2222222222222222,\"#7201a8\"],[0.3333333333333333,\"#9c179e\"],[0.4444444444444444,\"#bd3786\"],[0.5555555555555556,\"#d8576b\"],[0.6666666666666666,\"#ed7953\"],[0.7777777777777778,\"#fb9f3a\"],[0.8888888888888888,\"#fdca26\"],[1.0,\"#f0f921\"]]}],\"choropleth\":[{\"type\":\"choropleth\",\"colorbar\":{\"outlinewidth\":0,\"ticks\":\"\"}}],\"histogram2d\":[{\"type\":\"histogram2d\",\"colorbar\":{\"outlinewidth\":0,\"ticks\":\"\"},\"colorscale\":[[0.0,\"#0d0887\"],[0.1111111111111111,\"#46039f\"],[0.2222222222222222,\"#7201a8\"],[0.3333333333333333,\"#9c179e\"],[0.4444444444444444,\"#bd3786\"],[0.5555555555555556,\"#d8576b\"],[0.6666666666666666,\"#ed7953\"],[0.7777777777777778,\"#fb9f3a\"],[0.8888888888888888,\"#fdca26\"],[1.0,\"#f0f921\"]]}],\"heatmap\":[{\"type\":\"heatmap\",\"colorbar\":{\"outlinewidth\":0,\"ticks\":\"\"},\"colorscale\":[[0.0,\"#0d0887\"],[0.1111111111111111,\"#46039f\"],[0.2222222222222222,\"#7201a8\"],[0.3333333333333333,\"#9c179e\"],[0.4444444444444444,\"#bd3786\"],[0.5555555555555556,\"#d8576b\"],[0.6666666666666666,\"#ed7953\"],[0.7777777777777778,\"#fb9f3a\"],[0.8888888888888888,\"#fdca26\"],[1.0,\"#f0f921\"]]}],\"heatmapgl\":[{\"type\":\"heatmapgl\",\"colorbar\":{\"outlinewidth\":0,\"ticks\":\"\"},\"colorscale\":[[0.0,\"#0d0887\"],[0.1111111111111111,\"#46039f\"],[0.2222222222222222,\"#7201a8\"],[0.3333333333333333,\"#9c179e\"],[0.4444444444444444,\"#bd3786\"],[0.5555555555555556,\"#d8576b\"],[0.6666666666666666,\"#ed7953\"],[0.7777777777777778,\"#fb9f3a\"],[0.8888888888888888,\"#fdca26\"],[1.0,\"#f0f921\"]]}],\"contourcarpet\":[{\"type\":\"contourcarpet\",\"colorbar\":{\"outlinewidth\":0,\"ticks\":\"\"}}],\"contour\":[{\"type\":\"contour\",\"colorbar\":{\"outlinewidth\":0,\"ticks\":\"\"},\"colorscale\":[[0.0,\"#0d0887\"],[0.1111111111111111,\"#46039f\"],[0.2222222222222222,\"#7201a8\"],[0.3333333333333333,\"#9c179e\"],[0.4444444444444444,\"#bd3786\"],[0.5555555555555556,\"#d8576b\"],[0.6666666666666666,\"#ed7953\"],[0.7777777777777778,\"#fb9f3a\"],[0.8888888888888888,\"#fdca26\"],[1.0,\"#f0f921\"]]}],\"surface\":[{\"type\":\"surface\",\"colorbar\":{\"outlinewidth\":0,\"ticks\":\"\"},\"colorscale\":[[0.0,\"#0d0887\"],[0.1111111111111111,\"#46039f\"],[0.2222222222222222,\"#7201a8\"],[0.3333333333333333,\"#9c179e\"],[0.4444444444444444,\"#bd3786\"],[0.5555555555555556,\"#d8576b\"],[0.6666666666666666,\"#ed7953\"],[0.7777777777777778,\"#fb9f3a\"],[0.8888888888888888,\"#fdca26\"],[1.0,\"#f0f921\"]]}],\"mesh3d\":[{\"type\":\"mesh3d\",\"colorbar\":{\"outlinewidth\":0,\"ticks\":\"\"}}],\"scatter\":[{\"fillpattern\":{\"fillmode\":\"overlay\",\"size\":10,\"solidity\":0.2},\"type\":\"scatter\"}],\"parcoords\":[{\"type\":\"parcoords\",\"line\":{\"colorbar\":{\"outlinewidth\":0,\"ticks\":\"\"}}}],\"scatterpolargl\":[{\"type\":\"scatterpolargl\",\"marker\":{\"colorbar\":{\"outlinewidth\":0,\"ticks\":\"\"}}}],\"bar\":[{\"error_x\":{\"color\":\"#2a3f5f\"},\"error_y\":{\"color\":\"#2a3f5f\"},\"marker\":{\"line\":{\"color\":\"#E5ECF6\",\"width\":0.5},\"pattern\":{\"fillmode\":\"overlay\",\"size\":10,\"solidity\":0.2}},\"type\":\"bar\"}],\"scattergeo\":[{\"type\":\"scattergeo\",\"marker\":{\"colorbar\":{\"outlinewidth\":0,\"ticks\":\"\"}}}],\"scatterpolar\":[{\"type\":\"scatterpolar\",\"marker\":{\"colorbar\":{\"outlinewidth\":0,\"ticks\":\"\"}}}],\"histogram\":[{\"marker\":{\"pattern\":{\"fillmode\":\"overlay\",\"size\":10,\"solidity\":0.2}},\"type\":\"histogram\"}],\"scattergl\":[{\"type\":\"scattergl\",\"marker\":{\"colorbar\":{\"outlinewidth\":0,\"ticks\":\"\"}}}],\"scatter3d\":[{\"type\":\"scatter3d\",\"line\":{\"colorbar\":{\"outlinewidth\":0,\"ticks\":\"\"}},\"marker\":{\"colorbar\":{\"outlinewidth\":0,\"ticks\":\"\"}}}],\"scattermapbox\":[{\"type\":\"scattermapbox\",\"marker\":{\"colorbar\":{\"outlinewidth\":0,\"ticks\":\"\"}}}],\"scatterternary\":[{\"type\":\"scatterternary\",\"marker\":{\"colorbar\":{\"outlinewidth\":0,\"ticks\":\"\"}}}],\"scattercarpet\":[{\"type\":\"scattercarpet\",\"marker\":{\"colorbar\":{\"outlinewidth\":0,\"ticks\":\"\"}}}],\"carpet\":[{\"aaxis\":{\"endlinecolor\":\"#2a3f5f\",\"gridcolor\":\"white\",\"linecolor\":\"white\",\"minorgridcolor\":\"white\",\"startlinecolor\":\"#2a3f5f\"},\"baxis\":{\"endlinecolor\":\"#2a3f5f\",\"gridcolor\":\"white\",\"linecolor\":\"white\",\"minorgridcolor\":\"white\",\"startlinecolor\":\"#2a3f5f\"},\"type\":\"carpet\"}],\"table\":[{\"cells\":{\"fill\":{\"color\":\"#EBF0F8\"},\"line\":{\"color\":\"white\"}},\"header\":{\"fill\":{\"color\":\"#C8D4E3\"},\"line\":{\"color\":\"white\"}},\"type\":\"table\"}],\"barpolar\":[{\"marker\":{\"line\":{\"color\":\"#E5ECF6\",\"width\":0.5},\"pattern\":{\"fillmode\":\"overlay\",\"size\":10,\"solidity\":0.2}},\"type\":\"barpolar\"}],\"pie\":[{\"automargin\":true,\"type\":\"pie\"}]},\"layout\":{\"autotypenumbers\":\"strict\",\"colorway\":[\"#636efa\",\"#EF553B\",\"#00cc96\",\"#ab63fa\",\"#FFA15A\",\"#19d3f3\",\"#FF6692\",\"#B6E880\",\"#FF97FF\",\"#FECB52\"],\"font\":{\"color\":\"#2a3f5f\"},\"hovermode\":\"closest\",\"hoverlabel\":{\"align\":\"left\"},\"paper_bgcolor\":\"white\",\"plot_bgcolor\":\"#E5ECF6\",\"polar\":{\"bgcolor\":\"#E5ECF6\",\"angularaxis\":{\"gridcolor\":\"white\",\"linecolor\":\"white\",\"ticks\":\"\"},\"radialaxis\":{\"gridcolor\":\"white\",\"linecolor\":\"white\",\"ticks\":\"\"}},\"ternary\":{\"bgcolor\":\"#E5ECF6\",\"aaxis\":{\"gridcolor\":\"white\",\"linecolor\":\"white\",\"ticks\":\"\"},\"baxis\":{\"gridcolor\":\"white\",\"linecolor\":\"white\",\"ticks\":\"\"},\"caxis\":{\"gridcolor\":\"white\",\"linecolor\":\"white\",\"ticks\":\"\"}},\"coloraxis\":{\"colorbar\":{\"outlinewidth\":0,\"ticks\":\"\"}},\"colorscale\":{\"sequential\":[[0.0,\"#0d0887\"],[0.1111111111111111,\"#46039f\"],[0.2222222222222222,\"#7201a8\"],[0.3333333333333333,\"#9c179e\"],[0.4444444444444444,\"#bd3786\"],[0.5555555555555556,\"#d8576b\"],[0.6666666666666666,\"#ed7953\"],[0.7777777777777778,\"#fb9f3a\"],[0.8888888888888888,\"#fdca26\"],[1.0,\"#f0f921\"]],\"sequentialminus\":[[0.0,\"#0d0887\"],[0.1111111111111111,\"#46039f\"],[0.2222222222222222,\"#7201a8\"],[0.3333333333333333,\"#9c179e\"],[0.4444444444444444,\"#bd3786\"],[0.5555555555555556,\"#d8576b\"],[0.6666666666666666,\"#ed7953\"],[0.7777777777777778,\"#fb9f3a\"],[0.8888888888888888,\"#fdca26\"],[1.0,\"#f0f921\"]],\"diverging\":[[0,\"#8e0152\"],[0.1,\"#c51b7d\"],[0.2,\"#de77ae\"],[0.3,\"#f1b6da\"],[0.4,\"#fde0ef\"],[0.5,\"#f7f7f7\"],[0.6,\"#e6f5d0\"],[0.7,\"#b8e186\"],[0.8,\"#7fbc41\"],[0.9,\"#4d9221\"],[1,\"#276419\"]]},\"xaxis\":{\"gridcolor\":\"white\",\"linecolor\":\"white\",\"ticks\":\"\",\"title\":{\"standoff\":15},\"zerolinecolor\":\"white\",\"automargin\":true,\"zerolinewidth\":2},\"yaxis\":{\"gridcolor\":\"white\",\"linecolor\":\"white\",\"ticks\":\"\",\"title\":{\"standoff\":15},\"zerolinecolor\":\"white\",\"automargin\":true,\"zerolinewidth\":2},\"scene\":{\"xaxis\":{\"backgroundcolor\":\"#E5ECF6\",\"gridcolor\":\"white\",\"linecolor\":\"white\",\"showbackground\":true,\"ticks\":\"\",\"zerolinecolor\":\"white\",\"gridwidth\":2},\"yaxis\":{\"backgroundcolor\":\"#E5ECF6\",\"gridcolor\":\"white\",\"linecolor\":\"white\",\"showbackground\":true,\"ticks\":\"\",\"zerolinecolor\":\"white\",\"gridwidth\":2},\"zaxis\":{\"backgroundcolor\":\"#E5ECF6\",\"gridcolor\":\"white\",\"linecolor\":\"white\",\"showbackground\":true,\"ticks\":\"\",\"zerolinecolor\":\"white\",\"gridwidth\":2}},\"shapedefaults\":{\"line\":{\"color\":\"#2a3f5f\"}},\"annotationdefaults\":{\"arrowcolor\":\"#2a3f5f\",\"arrowhead\":0,\"arrowwidth\":1},\"geo\":{\"bgcolor\":\"white\",\"landcolor\":\"#E5ECF6\",\"subunitcolor\":\"white\",\"showland\":true,\"showlakes\":true,\"lakecolor\":\"white\"},\"title\":{\"x\":0.05},\"mapbox\":{\"style\":\"light\"}}},\"xaxis\":{\"anchor\":\"y\",\"domain\":[0.0,1.0],\"title\":{\"text\":\"gpu-name\"}},\"yaxis\":{\"anchor\":\"x\",\"domain\":[0.0,1.0],\"title\":{\"text\":\"count\"}},\"legend\":{\"tracegroupgap\":0},\"title\":{\"text\":\"Number of Inferences Completed by GPU\"},\"barmode\":\"relative\"},                        {\"responsive\": true}                    ).then(function(){\n",
       "                            \n",
       "var gd = document.getElementById('5785c1e5-5079-4163-a7c8-1c38b885ee32');\n",
       "var x = new MutationObserver(function (mutations, observer) {{\n",
       "        var display = window.getComputedStyle(gd).display;\n",
       "        if (!display || display === 'none') {{\n",
       "            console.log([gd, 'removed!']);\n",
       "            Plotly.purge(gd);\n",
       "            observer.disconnect();\n",
       "        }}\n",
       "}});\n",
       "\n",
       "// Listen for the removal of the full notebook cells\n",
       "var notebookContainer = gd.closest('#notebook-container');\n",
       "if (notebookContainer) {{\n",
       "    x.observe(notebookContainer, {childList: true});\n",
       "}}\n",
       "\n",
       "// Listen for the clearing of the current output cell\n",
       "var outputEl = gd.closest('.output');\n",
       "if (outputEl) {{\n",
       "    x.observe(outputEl, {childList: true});\n",
       "}}\n",
       "\n",
       "                        })                };                });            </script>        </div>"
      ]
     },
     "metadata": {},
     "output_type": "display_data"
    }
   ],
   "source": [
    "# Getting the value counts\n",
    "gpu_type_counts = df[\"gpu-name\"].value_counts()\n",
    "\n",
    "# Convert the Series to DataFrame and reset the index\n",
    "gpu_type_counts_df = gpu_type_counts.reset_index()\n",
    "gpu_type_counts_df.columns = ['gpu-name', 'count']\n",
    "\n",
    "# Sort the DataFrame by 'gpu-name'\n",
    "gpu_type_counts_df = gpu_type_counts_df.sort_values(by='gpu-name')\n",
    "\n",
    "# Create the bar graph\n",
    "whisper_fig = px.bar(gpu_type_counts_df, x='gpu-name', y='count', title=\"Number of Inferences Completed by GPU\", color_discrete_sequence=[salad_green])\n",
    "\n",
    "# Show the figure\n",
    "whisper_fig.show()\n",
    "\n",
    "whisper_fig.update_layout(\n",
    "    title_text=f\"Number of Inferences Completed by GPU\",\n",
    "    title_font=dict(size=32),\n",
    "    xaxis_title=\"GPU\",\n",
    "    xaxis_title_font=dict(size=24),\n",
    "    yaxis_title=\"Number of Inferences\",\n",
    "    yaxis_title_font=dict(size=24),\n",
    "    xaxis=dict(tickfont=dict(size=18)),\n",
    "    yaxis=dict(tickfont=dict(size=18)),\n",
    ")\n",
    "whisper_fig.write_image(\"images/gpu_type_counts.jpg\", width=1920, height=768)\n",
    "gpu_type_counts_df.to_csv(\"gpu_type_counts.csv\", index=False)"
   ]
  },
  {
   "cell_type": "code",
   "execution_count": 19,
   "metadata": {},
   "outputs": [],
   "source": [
    "whisper_df = df[df['model-id'] == 'openai/whisper-large-v3']\n",
    "whisper_df.reset_index(drop=True, inplace=True)\n",
    "distil_df = df[df['model-id'] == 'distil-whisper/distil-large-v2']\n",
    "distil_df.reset_index(drop=True, inplace=True)"
   ]
  },
  {
   "cell_type": "code",
   "execution_count": 20,
   "metadata": {},
   "outputs": [
    {
     "name": "stdout",
     "output_type": "stream",
     "text": [
      "<class 'pandas.core.frame.DataFrame'>\n",
      "RangeIndex: 2364838 entries, 0 to 2364837\n",
      "Data columns (total 10 columns):\n",
      " #   Column                    Dtype  \n",
      "---  ------                    -----  \n",
      " 0   word_count                int64  \n",
      " 1   audio_url                 object \n",
      " 2   gpu-name                  object \n",
      " 3   salad-machine-id          object \n",
      " 4   salad-container-group-id  object \n",
      " 5   processing-time           float64\n",
      " 6   audio-length              float64\n",
      " 7   realtime-factor           float64\n",
      " 8   model-id                  object \n",
      " 9   timestamp                 object \n",
      "dtypes: float64(3), int64(1), object(6)\n",
      "memory usage: 180.4+ MB\n"
     ]
    }
   ],
   "source": [
    "whisper_df.info()"
   ]
  },
  {
   "cell_type": "code",
   "execution_count": 21,
   "metadata": {},
   "outputs": [
    {
     "name": "stdout",
     "output_type": "stream",
     "text": [
      "<class 'pandas.core.frame.DataFrame'>\n",
      "RangeIndex: 3846559 entries, 0 to 3846558\n",
      "Data columns (total 10 columns):\n",
      " #   Column                    Dtype  \n",
      "---  ------                    -----  \n",
      " 0   word_count                int64  \n",
      " 1   audio_url                 object \n",
      " 2   gpu-name                  object \n",
      " 3   salad-machine-id          object \n",
      " 4   salad-container-group-id  object \n",
      " 5   processing-time           float64\n",
      " 6   audio-length              float64\n",
      " 7   realtime-factor           float64\n",
      " 8   model-id                  object \n",
      " 9   timestamp                 object \n",
      "dtypes: float64(3), int64(1), object(6)\n",
      "memory usage: 293.5+ MB\n"
     ]
    }
   ],
   "source": [
    "distil_df.info()"
   ]
  },
  {
   "cell_type": "code",
   "execution_count": 23,
   "metadata": {},
   "outputs": [
    {
     "name": "stdout",
     "output_type": "stream",
     "text": [
      "Found 376 unique machines total:\n",
      "  192 unique machines for Whisper Large v3\n",
      "  197 unique machines for Distil Whisper Large v2\n"
     ]
    }
   ],
   "source": [
    "unique_machines = df[\"salad-machine-id\"].unique()\n",
    "whisper_unique_machines = whisper_df[\"salad-machine-id\"].unique()\n",
    "distil_unique_machines = distil_df[\"salad-machine-id\"].unique()\n",
    "print(f\"Found {len(unique_machines)} unique machines total:\")\n",
    "print(f\"  {len(whisper_unique_machines)} unique machines for Whisper Large v3\")\n",
    "print(f\"  {len(distil_unique_machines)} unique machines for Distil Whisper Large v2\")"
   ]
  },
  {
   "cell_type": "code",
   "execution_count": 25,
   "metadata": {},
   "outputs": [
    {
     "data": {
      "application/vnd.plotly.v1+json": {
       "config": {
        "plotlyServerURL": "https://plot.ly"
       },
       "data": [
        {
         "name": "Whisper Large v3",
         "type": "bar",
         "x": [
          "RTX 2080",
          "RTX 2080 Ti",
          "RTX 3060",
          "RTX 3060 Ti",
          "RTX 3070",
          "RTX 3070 Laptop",
          "RTX 3070 Ti",
          "RTX 3070 Ti Laptop",
          "RTX 3080",
          "RTX 3080 Laptop",
          "RTX 3080 Ti",
          "RTX 3090",
          "RTX 3090 Ti",
          "RTX 4060",
          "RTX 4060 Laptop",
          "RTX 4060 Ti",
          "RTX 4070",
          "RTX 4070 Ti",
          "RTX 4080",
          "RTX 4090"
         ],
         "y": [
          7271,
          14565,
          755606,
          194981,
          136817,
          32402,
          69486,
          14220,
          163708,
          28414,
          149193,
          95252,
          23095,
          18832,
          3828,
          53427,
          184897,
          173980,
          220897,
          23967
         ]
        },
        {
         "name": "Distil Whisper Large v2",
         "type": "bar",
         "x": [
          "RTX 2080",
          "RTX 2080 Ti",
          "RTX 3060",
          "RTX 3060 Ti",
          "RTX 3070",
          "RTX 3070 Laptop",
          "RTX 3070 Ti",
          "RTX 3080",
          "RTX 3080 Laptop",
          "RTX 3080 Ti",
          "RTX 3080 Ti Laptop",
          "RTX 3090",
          "RTX 3090 Ti",
          "RTX 4060",
          "RTX 4060 Laptop",
          "RTX 4060 Ti",
          "RTX 4070",
          "RTX 4070 Laptop",
          "RTX 4070 Ti",
          "RTX 4080",
          "RTX 4090",
          "RTX 4090 Laptop"
         ],
         "y": [
          25508,
          3035,
          749481,
          494457,
          331979,
          85338,
          54128,
          486459,
          37379,
          261857,
          21026,
          156050,
          16542,
          210117,
          44708,
          131484,
          373306,
          87328,
          161908,
          101394,
          102,
          12973
         ]
        }
       ],
       "layout": {
        "barmode": "group",
        "template": {
         "data": {
          "bar": [
           {
            "error_x": {
             "color": "#2a3f5f"
            },
            "error_y": {
             "color": "#2a3f5f"
            },
            "marker": {
             "line": {
              "color": "#E5ECF6",
              "width": 0.5
             },
             "pattern": {
              "fillmode": "overlay",
              "size": 10,
              "solidity": 0.2
             }
            },
            "type": "bar"
           }
          ],
          "barpolar": [
           {
            "marker": {
             "line": {
              "color": "#E5ECF6",
              "width": 0.5
             },
             "pattern": {
              "fillmode": "overlay",
              "size": 10,
              "solidity": 0.2
             }
            },
            "type": "barpolar"
           }
          ],
          "carpet": [
           {
            "aaxis": {
             "endlinecolor": "#2a3f5f",
             "gridcolor": "white",
             "linecolor": "white",
             "minorgridcolor": "white",
             "startlinecolor": "#2a3f5f"
            },
            "baxis": {
             "endlinecolor": "#2a3f5f",
             "gridcolor": "white",
             "linecolor": "white",
             "minorgridcolor": "white",
             "startlinecolor": "#2a3f5f"
            },
            "type": "carpet"
           }
          ],
          "choropleth": [
           {
            "colorbar": {
             "outlinewidth": 0,
             "ticks": ""
            },
            "type": "choropleth"
           }
          ],
          "contour": [
           {
            "colorbar": {
             "outlinewidth": 0,
             "ticks": ""
            },
            "colorscale": [
             [
              0,
              "#0d0887"
             ],
             [
              0.1111111111111111,
              "#46039f"
             ],
             [
              0.2222222222222222,
              "#7201a8"
             ],
             [
              0.3333333333333333,
              "#9c179e"
             ],
             [
              0.4444444444444444,
              "#bd3786"
             ],
             [
              0.5555555555555556,
              "#d8576b"
             ],
             [
              0.6666666666666666,
              "#ed7953"
             ],
             [
              0.7777777777777778,
              "#fb9f3a"
             ],
             [
              0.8888888888888888,
              "#fdca26"
             ],
             [
              1,
              "#f0f921"
             ]
            ],
            "type": "contour"
           }
          ],
          "contourcarpet": [
           {
            "colorbar": {
             "outlinewidth": 0,
             "ticks": ""
            },
            "type": "contourcarpet"
           }
          ],
          "heatmap": [
           {
            "colorbar": {
             "outlinewidth": 0,
             "ticks": ""
            },
            "colorscale": [
             [
              0,
              "#0d0887"
             ],
             [
              0.1111111111111111,
              "#46039f"
             ],
             [
              0.2222222222222222,
              "#7201a8"
             ],
             [
              0.3333333333333333,
              "#9c179e"
             ],
             [
              0.4444444444444444,
              "#bd3786"
             ],
             [
              0.5555555555555556,
              "#d8576b"
             ],
             [
              0.6666666666666666,
              "#ed7953"
             ],
             [
              0.7777777777777778,
              "#fb9f3a"
             ],
             [
              0.8888888888888888,
              "#fdca26"
             ],
             [
              1,
              "#f0f921"
             ]
            ],
            "type": "heatmap"
           }
          ],
          "heatmapgl": [
           {
            "colorbar": {
             "outlinewidth": 0,
             "ticks": ""
            },
            "colorscale": [
             [
              0,
              "#0d0887"
             ],
             [
              0.1111111111111111,
              "#46039f"
             ],
             [
              0.2222222222222222,
              "#7201a8"
             ],
             [
              0.3333333333333333,
              "#9c179e"
             ],
             [
              0.4444444444444444,
              "#bd3786"
             ],
             [
              0.5555555555555556,
              "#d8576b"
             ],
             [
              0.6666666666666666,
              "#ed7953"
             ],
             [
              0.7777777777777778,
              "#fb9f3a"
             ],
             [
              0.8888888888888888,
              "#fdca26"
             ],
             [
              1,
              "#f0f921"
             ]
            ],
            "type": "heatmapgl"
           }
          ],
          "histogram": [
           {
            "marker": {
             "pattern": {
              "fillmode": "overlay",
              "size": 10,
              "solidity": 0.2
             }
            },
            "type": "histogram"
           }
          ],
          "histogram2d": [
           {
            "colorbar": {
             "outlinewidth": 0,
             "ticks": ""
            },
            "colorscale": [
             [
              0,
              "#0d0887"
             ],
             [
              0.1111111111111111,
              "#46039f"
             ],
             [
              0.2222222222222222,
              "#7201a8"
             ],
             [
              0.3333333333333333,
              "#9c179e"
             ],
             [
              0.4444444444444444,
              "#bd3786"
             ],
             [
              0.5555555555555556,
              "#d8576b"
             ],
             [
              0.6666666666666666,
              "#ed7953"
             ],
             [
              0.7777777777777778,
              "#fb9f3a"
             ],
             [
              0.8888888888888888,
              "#fdca26"
             ],
             [
              1,
              "#f0f921"
             ]
            ],
            "type": "histogram2d"
           }
          ],
          "histogram2dcontour": [
           {
            "colorbar": {
             "outlinewidth": 0,
             "ticks": ""
            },
            "colorscale": [
             [
              0,
              "#0d0887"
             ],
             [
              0.1111111111111111,
              "#46039f"
             ],
             [
              0.2222222222222222,
              "#7201a8"
             ],
             [
              0.3333333333333333,
              "#9c179e"
             ],
             [
              0.4444444444444444,
              "#bd3786"
             ],
             [
              0.5555555555555556,
              "#d8576b"
             ],
             [
              0.6666666666666666,
              "#ed7953"
             ],
             [
              0.7777777777777778,
              "#fb9f3a"
             ],
             [
              0.8888888888888888,
              "#fdca26"
             ],
             [
              1,
              "#f0f921"
             ]
            ],
            "type": "histogram2dcontour"
           }
          ],
          "mesh3d": [
           {
            "colorbar": {
             "outlinewidth": 0,
             "ticks": ""
            },
            "type": "mesh3d"
           }
          ],
          "parcoords": [
           {
            "line": {
             "colorbar": {
              "outlinewidth": 0,
              "ticks": ""
             }
            },
            "type": "parcoords"
           }
          ],
          "pie": [
           {
            "automargin": true,
            "type": "pie"
           }
          ],
          "scatter": [
           {
            "fillpattern": {
             "fillmode": "overlay",
             "size": 10,
             "solidity": 0.2
            },
            "type": "scatter"
           }
          ],
          "scatter3d": [
           {
            "line": {
             "colorbar": {
              "outlinewidth": 0,
              "ticks": ""
             }
            },
            "marker": {
             "colorbar": {
              "outlinewidth": 0,
              "ticks": ""
             }
            },
            "type": "scatter3d"
           }
          ],
          "scattercarpet": [
           {
            "marker": {
             "colorbar": {
              "outlinewidth": 0,
              "ticks": ""
             }
            },
            "type": "scattercarpet"
           }
          ],
          "scattergeo": [
           {
            "marker": {
             "colorbar": {
              "outlinewidth": 0,
              "ticks": ""
             }
            },
            "type": "scattergeo"
           }
          ],
          "scattergl": [
           {
            "marker": {
             "colorbar": {
              "outlinewidth": 0,
              "ticks": ""
             }
            },
            "type": "scattergl"
           }
          ],
          "scattermapbox": [
           {
            "marker": {
             "colorbar": {
              "outlinewidth": 0,
              "ticks": ""
             }
            },
            "type": "scattermapbox"
           }
          ],
          "scatterpolar": [
           {
            "marker": {
             "colorbar": {
              "outlinewidth": 0,
              "ticks": ""
             }
            },
            "type": "scatterpolar"
           }
          ],
          "scatterpolargl": [
           {
            "marker": {
             "colorbar": {
              "outlinewidth": 0,
              "ticks": ""
             }
            },
            "type": "scatterpolargl"
           }
          ],
          "scatterternary": [
           {
            "marker": {
             "colorbar": {
              "outlinewidth": 0,
              "ticks": ""
             }
            },
            "type": "scatterternary"
           }
          ],
          "surface": [
           {
            "colorbar": {
             "outlinewidth": 0,
             "ticks": ""
            },
            "colorscale": [
             [
              0,
              "#0d0887"
             ],
             [
              0.1111111111111111,
              "#46039f"
             ],
             [
              0.2222222222222222,
              "#7201a8"
             ],
             [
              0.3333333333333333,
              "#9c179e"
             ],
             [
              0.4444444444444444,
              "#bd3786"
             ],
             [
              0.5555555555555556,
              "#d8576b"
             ],
             [
              0.6666666666666666,
              "#ed7953"
             ],
             [
              0.7777777777777778,
              "#fb9f3a"
             ],
             [
              0.8888888888888888,
              "#fdca26"
             ],
             [
              1,
              "#f0f921"
             ]
            ],
            "type": "surface"
           }
          ],
          "table": [
           {
            "cells": {
             "fill": {
              "color": "#EBF0F8"
             },
             "line": {
              "color": "white"
             }
            },
            "header": {
             "fill": {
              "color": "#C8D4E3"
             },
             "line": {
              "color": "white"
             }
            },
            "type": "table"
           }
          ]
         },
         "layout": {
          "annotationdefaults": {
           "arrowcolor": "#2a3f5f",
           "arrowhead": 0,
           "arrowwidth": 1
          },
          "autotypenumbers": "strict",
          "coloraxis": {
           "colorbar": {
            "outlinewidth": 0,
            "ticks": ""
           }
          },
          "colorscale": {
           "diverging": [
            [
             0,
             "#8e0152"
            ],
            [
             0.1,
             "#c51b7d"
            ],
            [
             0.2,
             "#de77ae"
            ],
            [
             0.3,
             "#f1b6da"
            ],
            [
             0.4,
             "#fde0ef"
            ],
            [
             0.5,
             "#f7f7f7"
            ],
            [
             0.6,
             "#e6f5d0"
            ],
            [
             0.7,
             "#b8e186"
            ],
            [
             0.8,
             "#7fbc41"
            ],
            [
             0.9,
             "#4d9221"
            ],
            [
             1,
             "#276419"
            ]
           ],
           "sequential": [
            [
             0,
             "#0d0887"
            ],
            [
             0.1111111111111111,
             "#46039f"
            ],
            [
             0.2222222222222222,
             "#7201a8"
            ],
            [
             0.3333333333333333,
             "#9c179e"
            ],
            [
             0.4444444444444444,
             "#bd3786"
            ],
            [
             0.5555555555555556,
             "#d8576b"
            ],
            [
             0.6666666666666666,
             "#ed7953"
            ],
            [
             0.7777777777777778,
             "#fb9f3a"
            ],
            [
             0.8888888888888888,
             "#fdca26"
            ],
            [
             1,
             "#f0f921"
            ]
           ],
           "sequentialminus": [
            [
             0,
             "#0d0887"
            ],
            [
             0.1111111111111111,
             "#46039f"
            ],
            [
             0.2222222222222222,
             "#7201a8"
            ],
            [
             0.3333333333333333,
             "#9c179e"
            ],
            [
             0.4444444444444444,
             "#bd3786"
            ],
            [
             0.5555555555555556,
             "#d8576b"
            ],
            [
             0.6666666666666666,
             "#ed7953"
            ],
            [
             0.7777777777777778,
             "#fb9f3a"
            ],
            [
             0.8888888888888888,
             "#fdca26"
            ],
            [
             1,
             "#f0f921"
            ]
           ]
          },
          "colorway": [
           "#636efa",
           "#EF553B",
           "#00cc96",
           "#ab63fa",
           "#FFA15A",
           "#19d3f3",
           "#FF6692",
           "#B6E880",
           "#FF97FF",
           "#FECB52"
          ],
          "font": {
           "color": "#2a3f5f"
          },
          "geo": {
           "bgcolor": "white",
           "lakecolor": "white",
           "landcolor": "#E5ECF6",
           "showlakes": true,
           "showland": true,
           "subunitcolor": "white"
          },
          "hoverlabel": {
           "align": "left"
          },
          "hovermode": "closest",
          "mapbox": {
           "style": "light"
          },
          "paper_bgcolor": "white",
          "plot_bgcolor": "#E5ECF6",
          "polar": {
           "angularaxis": {
            "gridcolor": "white",
            "linecolor": "white",
            "ticks": ""
           },
           "bgcolor": "#E5ECF6",
           "radialaxis": {
            "gridcolor": "white",
            "linecolor": "white",
            "ticks": ""
           }
          },
          "scene": {
           "xaxis": {
            "backgroundcolor": "#E5ECF6",
            "gridcolor": "white",
            "gridwidth": 2,
            "linecolor": "white",
            "showbackground": true,
            "ticks": "",
            "zerolinecolor": "white"
           },
           "yaxis": {
            "backgroundcolor": "#E5ECF6",
            "gridcolor": "white",
            "gridwidth": 2,
            "linecolor": "white",
            "showbackground": true,
            "ticks": "",
            "zerolinecolor": "white"
           },
           "zaxis": {
            "backgroundcolor": "#E5ECF6",
            "gridcolor": "white",
            "gridwidth": 2,
            "linecolor": "white",
            "showbackground": true,
            "ticks": "",
            "zerolinecolor": "white"
           }
          },
          "shapedefaults": {
           "line": {
            "color": "#2a3f5f"
           }
          },
          "ternary": {
           "aaxis": {
            "gridcolor": "white",
            "linecolor": "white",
            "ticks": ""
           },
           "baxis": {
            "gridcolor": "white",
            "linecolor": "white",
            "ticks": ""
           },
           "bgcolor": "#E5ECF6",
           "caxis": {
            "gridcolor": "white",
            "linecolor": "white",
            "ticks": ""
           }
          },
          "title": {
           "x": 0.05
          },
          "xaxis": {
           "automargin": true,
           "gridcolor": "white",
           "linecolor": "white",
           "ticks": "",
           "title": {
            "standoff": 15
           },
           "zerolinecolor": "white",
           "zerolinewidth": 2
          },
          "yaxis": {
           "automargin": true,
           "gridcolor": "white",
           "linecolor": "white",
           "ticks": "",
           "title": {
            "standoff": 15
           },
           "zerolinecolor": "white",
           "zerolinewidth": 2
          }
         }
        }
       }
      },
      "text/html": [
       "<div>                            <div id=\"82aeb4e8-f696-4991-b069-03a213a30c6d\" class=\"plotly-graph-div\" style=\"height:525px; width:100%;\"></div>            <script type=\"text/javascript\">                require([\"plotly\"], function(Plotly) {                    window.PLOTLYENV=window.PLOTLYENV || {};                                    if (document.getElementById(\"82aeb4e8-f696-4991-b069-03a213a30c6d\")) {                    Plotly.newPlot(                        \"82aeb4e8-f696-4991-b069-03a213a30c6d\",                        [{\"name\":\"Whisper Large v3\",\"x\":[\"RTX 2080\",\"RTX 2080 Ti\",\"RTX 3060\",\"RTX 3060 Ti\",\"RTX 3070\",\"RTX 3070 Laptop\",\"RTX 3070 Ti\",\"RTX 3070 Ti Laptop\",\"RTX 3080\",\"RTX 3080 Laptop\",\"RTX 3080 Ti\",\"RTX 3090\",\"RTX 3090 Ti\",\"RTX 4060\",\"RTX 4060 Laptop\",\"RTX 4060 Ti\",\"RTX 4070\",\"RTX 4070 Ti\",\"RTX 4080\",\"RTX 4090\"],\"y\":[7271,14565,755606,194981,136817,32402,69486,14220,163708,28414,149193,95252,23095,18832,3828,53427,184897,173980,220897,23967],\"type\":\"bar\"},{\"name\":\"Distil Whisper Large v2\",\"x\":[\"RTX 2080\",\"RTX 2080 Ti\",\"RTX 3060\",\"RTX 3060 Ti\",\"RTX 3070\",\"RTX 3070 Laptop\",\"RTX 3070 Ti\",\"RTX 3080\",\"RTX 3080 Laptop\",\"RTX 3080 Ti\",\"RTX 3080 Ti Laptop\",\"RTX 3090\",\"RTX 3090 Ti\",\"RTX 4060\",\"RTX 4060 Laptop\",\"RTX 4060 Ti\",\"RTX 4070\",\"RTX 4070 Laptop\",\"RTX 4070 Ti\",\"RTX 4080\",\"RTX 4090\",\"RTX 4090 Laptop\"],\"y\":[25508,3035,749481,494457,331979,85338,54128,486459,37379,261857,21026,156050,16542,210117,44708,131484,373306,87328,161908,101394,102,12973],\"type\":\"bar\"}],                        {\"template\":{\"data\":{\"histogram2dcontour\":[{\"type\":\"histogram2dcontour\",\"colorbar\":{\"outlinewidth\":0,\"ticks\":\"\"},\"colorscale\":[[0.0,\"#0d0887\"],[0.1111111111111111,\"#46039f\"],[0.2222222222222222,\"#7201a8\"],[0.3333333333333333,\"#9c179e\"],[0.4444444444444444,\"#bd3786\"],[0.5555555555555556,\"#d8576b\"],[0.6666666666666666,\"#ed7953\"],[0.7777777777777778,\"#fb9f3a\"],[0.8888888888888888,\"#fdca26\"],[1.0,\"#f0f921\"]]}],\"choropleth\":[{\"type\":\"choropleth\",\"colorbar\":{\"outlinewidth\":0,\"ticks\":\"\"}}],\"histogram2d\":[{\"type\":\"histogram2d\",\"colorbar\":{\"outlinewidth\":0,\"ticks\":\"\"},\"colorscale\":[[0.0,\"#0d0887\"],[0.1111111111111111,\"#46039f\"],[0.2222222222222222,\"#7201a8\"],[0.3333333333333333,\"#9c179e\"],[0.4444444444444444,\"#bd3786\"],[0.5555555555555556,\"#d8576b\"],[0.6666666666666666,\"#ed7953\"],[0.7777777777777778,\"#fb9f3a\"],[0.8888888888888888,\"#fdca26\"],[1.0,\"#f0f921\"]]}],\"heatmap\":[{\"type\":\"heatmap\",\"colorbar\":{\"outlinewidth\":0,\"ticks\":\"\"},\"colorscale\":[[0.0,\"#0d0887\"],[0.1111111111111111,\"#46039f\"],[0.2222222222222222,\"#7201a8\"],[0.3333333333333333,\"#9c179e\"],[0.4444444444444444,\"#bd3786\"],[0.5555555555555556,\"#d8576b\"],[0.6666666666666666,\"#ed7953\"],[0.7777777777777778,\"#fb9f3a\"],[0.8888888888888888,\"#fdca26\"],[1.0,\"#f0f921\"]]}],\"heatmapgl\":[{\"type\":\"heatmapgl\",\"colorbar\":{\"outlinewidth\":0,\"ticks\":\"\"},\"colorscale\":[[0.0,\"#0d0887\"],[0.1111111111111111,\"#46039f\"],[0.2222222222222222,\"#7201a8\"],[0.3333333333333333,\"#9c179e\"],[0.4444444444444444,\"#bd3786\"],[0.5555555555555556,\"#d8576b\"],[0.6666666666666666,\"#ed7953\"],[0.7777777777777778,\"#fb9f3a\"],[0.8888888888888888,\"#fdca26\"],[1.0,\"#f0f921\"]]}],\"contourcarpet\":[{\"type\":\"contourcarpet\",\"colorbar\":{\"outlinewidth\":0,\"ticks\":\"\"}}],\"contour\":[{\"type\":\"contour\",\"colorbar\":{\"outlinewidth\":0,\"ticks\":\"\"},\"colorscale\":[[0.0,\"#0d0887\"],[0.1111111111111111,\"#46039f\"],[0.2222222222222222,\"#7201a8\"],[0.3333333333333333,\"#9c179e\"],[0.4444444444444444,\"#bd3786\"],[0.5555555555555556,\"#d8576b\"],[0.6666666666666666,\"#ed7953\"],[0.7777777777777778,\"#fb9f3a\"],[0.8888888888888888,\"#fdca26\"],[1.0,\"#f0f921\"]]}],\"surface\":[{\"type\":\"surface\",\"colorbar\":{\"outlinewidth\":0,\"ticks\":\"\"},\"colorscale\":[[0.0,\"#0d0887\"],[0.1111111111111111,\"#46039f\"],[0.2222222222222222,\"#7201a8\"],[0.3333333333333333,\"#9c179e\"],[0.4444444444444444,\"#bd3786\"],[0.5555555555555556,\"#d8576b\"],[0.6666666666666666,\"#ed7953\"],[0.7777777777777778,\"#fb9f3a\"],[0.8888888888888888,\"#fdca26\"],[1.0,\"#f0f921\"]]}],\"mesh3d\":[{\"type\":\"mesh3d\",\"colorbar\":{\"outlinewidth\":0,\"ticks\":\"\"}}],\"scatter\":[{\"fillpattern\":{\"fillmode\":\"overlay\",\"size\":10,\"solidity\":0.2},\"type\":\"scatter\"}],\"parcoords\":[{\"type\":\"parcoords\",\"line\":{\"colorbar\":{\"outlinewidth\":0,\"ticks\":\"\"}}}],\"scatterpolargl\":[{\"type\":\"scatterpolargl\",\"marker\":{\"colorbar\":{\"outlinewidth\":0,\"ticks\":\"\"}}}],\"bar\":[{\"error_x\":{\"color\":\"#2a3f5f\"},\"error_y\":{\"color\":\"#2a3f5f\"},\"marker\":{\"line\":{\"color\":\"#E5ECF6\",\"width\":0.5},\"pattern\":{\"fillmode\":\"overlay\",\"size\":10,\"solidity\":0.2}},\"type\":\"bar\"}],\"scattergeo\":[{\"type\":\"scattergeo\",\"marker\":{\"colorbar\":{\"outlinewidth\":0,\"ticks\":\"\"}}}],\"scatterpolar\":[{\"type\":\"scatterpolar\",\"marker\":{\"colorbar\":{\"outlinewidth\":0,\"ticks\":\"\"}}}],\"histogram\":[{\"marker\":{\"pattern\":{\"fillmode\":\"overlay\",\"size\":10,\"solidity\":0.2}},\"type\":\"histogram\"}],\"scattergl\":[{\"type\":\"scattergl\",\"marker\":{\"colorbar\":{\"outlinewidth\":0,\"ticks\":\"\"}}}],\"scatter3d\":[{\"type\":\"scatter3d\",\"line\":{\"colorbar\":{\"outlinewidth\":0,\"ticks\":\"\"}},\"marker\":{\"colorbar\":{\"outlinewidth\":0,\"ticks\":\"\"}}}],\"scattermapbox\":[{\"type\":\"scattermapbox\",\"marker\":{\"colorbar\":{\"outlinewidth\":0,\"ticks\":\"\"}}}],\"scatterternary\":[{\"type\":\"scatterternary\",\"marker\":{\"colorbar\":{\"outlinewidth\":0,\"ticks\":\"\"}}}],\"scattercarpet\":[{\"type\":\"scattercarpet\",\"marker\":{\"colorbar\":{\"outlinewidth\":0,\"ticks\":\"\"}}}],\"carpet\":[{\"aaxis\":{\"endlinecolor\":\"#2a3f5f\",\"gridcolor\":\"white\",\"linecolor\":\"white\",\"minorgridcolor\":\"white\",\"startlinecolor\":\"#2a3f5f\"},\"baxis\":{\"endlinecolor\":\"#2a3f5f\",\"gridcolor\":\"white\",\"linecolor\":\"white\",\"minorgridcolor\":\"white\",\"startlinecolor\":\"#2a3f5f\"},\"type\":\"carpet\"}],\"table\":[{\"cells\":{\"fill\":{\"color\":\"#EBF0F8\"},\"line\":{\"color\":\"white\"}},\"header\":{\"fill\":{\"color\":\"#C8D4E3\"},\"line\":{\"color\":\"white\"}},\"type\":\"table\"}],\"barpolar\":[{\"marker\":{\"line\":{\"color\":\"#E5ECF6\",\"width\":0.5},\"pattern\":{\"fillmode\":\"overlay\",\"size\":10,\"solidity\":0.2}},\"type\":\"barpolar\"}],\"pie\":[{\"automargin\":true,\"type\":\"pie\"}]},\"layout\":{\"autotypenumbers\":\"strict\",\"colorway\":[\"#636efa\",\"#EF553B\",\"#00cc96\",\"#ab63fa\",\"#FFA15A\",\"#19d3f3\",\"#FF6692\",\"#B6E880\",\"#FF97FF\",\"#FECB52\"],\"font\":{\"color\":\"#2a3f5f\"},\"hovermode\":\"closest\",\"hoverlabel\":{\"align\":\"left\"},\"paper_bgcolor\":\"white\",\"plot_bgcolor\":\"#E5ECF6\",\"polar\":{\"bgcolor\":\"#E5ECF6\",\"angularaxis\":{\"gridcolor\":\"white\",\"linecolor\":\"white\",\"ticks\":\"\"},\"radialaxis\":{\"gridcolor\":\"white\",\"linecolor\":\"white\",\"ticks\":\"\"}},\"ternary\":{\"bgcolor\":\"#E5ECF6\",\"aaxis\":{\"gridcolor\":\"white\",\"linecolor\":\"white\",\"ticks\":\"\"},\"baxis\":{\"gridcolor\":\"white\",\"linecolor\":\"white\",\"ticks\":\"\"},\"caxis\":{\"gridcolor\":\"white\",\"linecolor\":\"white\",\"ticks\":\"\"}},\"coloraxis\":{\"colorbar\":{\"outlinewidth\":0,\"ticks\":\"\"}},\"colorscale\":{\"sequential\":[[0.0,\"#0d0887\"],[0.1111111111111111,\"#46039f\"],[0.2222222222222222,\"#7201a8\"],[0.3333333333333333,\"#9c179e\"],[0.4444444444444444,\"#bd3786\"],[0.5555555555555556,\"#d8576b\"],[0.6666666666666666,\"#ed7953\"],[0.7777777777777778,\"#fb9f3a\"],[0.8888888888888888,\"#fdca26\"],[1.0,\"#f0f921\"]],\"sequentialminus\":[[0.0,\"#0d0887\"],[0.1111111111111111,\"#46039f\"],[0.2222222222222222,\"#7201a8\"],[0.3333333333333333,\"#9c179e\"],[0.4444444444444444,\"#bd3786\"],[0.5555555555555556,\"#d8576b\"],[0.6666666666666666,\"#ed7953\"],[0.7777777777777778,\"#fb9f3a\"],[0.8888888888888888,\"#fdca26\"],[1.0,\"#f0f921\"]],\"diverging\":[[0,\"#8e0152\"],[0.1,\"#c51b7d\"],[0.2,\"#de77ae\"],[0.3,\"#f1b6da\"],[0.4,\"#fde0ef\"],[0.5,\"#f7f7f7\"],[0.6,\"#e6f5d0\"],[0.7,\"#b8e186\"],[0.8,\"#7fbc41\"],[0.9,\"#4d9221\"],[1,\"#276419\"]]},\"xaxis\":{\"gridcolor\":\"white\",\"linecolor\":\"white\",\"ticks\":\"\",\"title\":{\"standoff\":15},\"zerolinecolor\":\"white\",\"automargin\":true,\"zerolinewidth\":2},\"yaxis\":{\"gridcolor\":\"white\",\"linecolor\":\"white\",\"ticks\":\"\",\"title\":{\"standoff\":15},\"zerolinecolor\":\"white\",\"automargin\":true,\"zerolinewidth\":2},\"scene\":{\"xaxis\":{\"backgroundcolor\":\"#E5ECF6\",\"gridcolor\":\"white\",\"linecolor\":\"white\",\"showbackground\":true,\"ticks\":\"\",\"zerolinecolor\":\"white\",\"gridwidth\":2},\"yaxis\":{\"backgroundcolor\":\"#E5ECF6\",\"gridcolor\":\"white\",\"linecolor\":\"white\",\"showbackground\":true,\"ticks\":\"\",\"zerolinecolor\":\"white\",\"gridwidth\":2},\"zaxis\":{\"backgroundcolor\":\"#E5ECF6\",\"gridcolor\":\"white\",\"linecolor\":\"white\",\"showbackground\":true,\"ticks\":\"\",\"zerolinecolor\":\"white\",\"gridwidth\":2}},\"shapedefaults\":{\"line\":{\"color\":\"#2a3f5f\"}},\"annotationdefaults\":{\"arrowcolor\":\"#2a3f5f\",\"arrowhead\":0,\"arrowwidth\":1},\"geo\":{\"bgcolor\":\"white\",\"landcolor\":\"#E5ECF6\",\"subunitcolor\":\"white\",\"showland\":true,\"showlakes\":true,\"lakecolor\":\"white\"},\"title\":{\"x\":0.05},\"mapbox\":{\"style\":\"light\"}}},\"barmode\":\"group\"},                        {\"responsive\": true}                    ).then(function(){\n",
       "                            \n",
       "var gd = document.getElementById('82aeb4e8-f696-4991-b069-03a213a30c6d');\n",
       "var x = new MutationObserver(function (mutations, observer) {{\n",
       "        var display = window.getComputedStyle(gd).display;\n",
       "        if (!display || display === 'none') {{\n",
       "            console.log([gd, 'removed!']);\n",
       "            Plotly.purge(gd);\n",
       "            observer.disconnect();\n",
       "        }}\n",
       "}});\n",
       "\n",
       "// Listen for the removal of the full notebook cells\n",
       "var notebookContainer = gd.closest('#notebook-container');\n",
       "if (notebookContainer) {{\n",
       "    x.observe(notebookContainer, {childList: true});\n",
       "}}\n",
       "\n",
       "// Listen for the clearing of the current output cell\n",
       "var outputEl = gd.closest('.output');\n",
       "if (outputEl) {{\n",
       "    x.observe(outputEl, {childList: true});\n",
       "}}\n",
       "\n",
       "                        })                };                });            </script>        </div>"
      ]
     },
     "metadata": {},
     "output_type": "display_data"
    }
   ],
   "source": [
    "whisper_num_inferences_per_gpu = whisper_df[\"gpu-name\"].value_counts()\n",
    "distil_num_inferences_per_gpu = distil_df[\"gpu-name\"].value_counts()\n",
    "\n",
    "whisper_num_inferences_per_gpu_df = whisper_num_inferences_per_gpu.reset_index()\n",
    "whisper_num_inferences_per_gpu_df.columns = ['gpu-name', 'count']\n",
    "whisper_num_inferences_per_gpu_df = whisper_num_inferences_per_gpu_df.sort_values(by='gpu-name')\n",
    "\n",
    "distil_num_inferences_per_gpu_df = distil_num_inferences_per_gpu.reset_index()\n",
    "distil_num_inferences_per_gpu_df.columns = ['gpu-name', 'count']\n",
    "distil_num_inferences_per_gpu_df = distil_num_inferences_per_gpu_df.sort_values(by='gpu-name')\n",
    "\n",
    "whisper_fig = go.Figure(data=[\n",
    "    go.Bar(name='Whisper Large v3', x=whisper_num_inferences_per_gpu_df[\"gpu-name\"], y=whisper_num_inferences_per_gpu_df[\"count\"]),\n",
    "    go.Bar(name='Distil Whisper Large v2', x=distil_num_inferences_per_gpu_df[\"gpu-name\"], y=distil_num_inferences_per_gpu_df[\"count\"])\n",
    "])\n",
    "\n",
    "# Change the bar mode\n",
    "whisper_fig.update_layout(barmode='group')\n",
    "\n",
    "whisper_fig.show()"
   ]
  },
  {
   "cell_type": "code",
   "execution_count": 27,
   "metadata": {},
   "outputs": [
    {
     "name": "stdout",
     "output_type": "stream",
     "text": [
      "Found 23 unique GPUs:\n",
      "  RTX 2080\n",
      "  RTX 2080 Ti\n",
      "  RTX 3060\n",
      "  RTX 3060 Ti\n",
      "  RTX 3070\n",
      "  RTX 3070 Laptop\n",
      "  RTX 3070 Ti\n",
      "  RTX 3070 Ti Laptop\n",
      "  RTX 3080\n",
      "  RTX 3080 Laptop\n",
      "  RTX 3080 Ti\n",
      "  RTX 3080 Ti Laptop\n",
      "  RTX 3090\n",
      "  RTX 3090 Ti\n",
      "  RTX 4060\n",
      "  RTX 4060 Laptop\n",
      "  RTX 4060 Ti\n",
      "  RTX 4070\n",
      "  RTX 4070 Laptop\n",
      "  RTX 4070 Ti\n",
      "  RTX 4080\n",
      "  RTX 4090\n",
      "  RTX 4090 Laptop\n"
     ]
    }
   ],
   "source": [
    "all_gpus = sorted(df[\"gpu-name\"].unique())\n",
    "num_unique_gpus = len(all_gpus)\n",
    "print(f\"Found {num_unique_gpus} unique GPUs:\")\n",
    "for gpu in all_gpus:\n",
    "    print(f\"  {gpu}\")"
   ]
  },
  {
   "cell_type": "code",
   "execution_count": 30,
   "metadata": {},
   "outputs": [
    {
     "name": "stdout",
     "output_type": "stream",
     "text": [
      "Whisper Large v3 on RTX 2080 correlation between audio length and realtime factor: 0.09724764815617529\n",
      "Distil Whisper Large v2 on RTX 2080 correlation between audio length and realtime factor: 0.39617412574865984\n",
      "Whisper Large v3 on RTX 2080 Ti correlation between audio length and realtime factor: 0.5315534189050348\n",
      "Distil Whisper Large v2 on RTX 2080 Ti correlation between audio length and realtime factor: 0.5402173667360685\n",
      "Whisper Large v3 on RTX 3060 correlation between audio length and realtime factor: 0.36960255261667346\n",
      "Distil Whisper Large v2 on RTX 3060 correlation between audio length and realtime factor: 0.39566006473919585\n",
      "Whisper Large v3 on RTX 3060 Ti correlation between audio length and realtime factor: 0.26862158476218406\n",
      "Distil Whisper Large v2 on RTX 3060 Ti correlation between audio length and realtime factor: 0.4049652822839436\n",
      "Whisper Large v3 on RTX 3070 correlation between audio length and realtime factor: 0.28658466822253603\n",
      "Distil Whisper Large v2 on RTX 3070 correlation between audio length and realtime factor: 0.4010861913930002\n",
      "Whisper Large v3 on RTX 3070 Laptop correlation between audio length and realtime factor: 0.27773040471638916\n",
      "Distil Whisper Large v2 on RTX 3070 Laptop correlation between audio length and realtime factor: 0.3572358425540965\n",
      "Whisper Large v3 on RTX 3070 Ti correlation between audio length and realtime factor: 0.24927665357060552\n",
      "Distil Whisper Large v2 on RTX 3070 Ti correlation between audio length and realtime factor: 0.40877614988683114\n",
      "Whisper Large v3 on RTX 3070 Ti Laptop correlation between audio length and realtime factor: 0.035777755029971825\n",
      "Distil Whisper Large v2 on RTX 3070 Ti Laptop correlation between audio length and realtime factor: nan\n",
      "Whisper Large v3 on RTX 3080 correlation between audio length and realtime factor: 0.43923489185443637\n",
      "Distil Whisper Large v2 on RTX 3080 correlation between audio length and realtime factor: 0.4243894856588339\n",
      "Whisper Large v3 on RTX 3080 Laptop correlation between audio length and realtime factor: 0.15384772953313475\n",
      "Distil Whisper Large v2 on RTX 3080 Laptop correlation between audio length and realtime factor: 0.500218125554992\n",
      "Whisper Large v3 on RTX 3080 Ti correlation between audio length and realtime factor: 0.39414846884828425\n",
      "Distil Whisper Large v2 on RTX 3080 Ti correlation between audio length and realtime factor: 0.4145100002817443\n",
      "Whisper Large v3 on RTX 3080 Ti Laptop correlation between audio length and realtime factor: nan\n",
      "Distil Whisper Large v2 on RTX 3080 Ti Laptop correlation between audio length and realtime factor: 0.4247272527982723\n",
      "Whisper Large v3 on RTX 3090 correlation between audio length and realtime factor: 0.5362293430777134\n",
      "Distil Whisper Large v2 on RTX 3090 correlation between audio length and realtime factor: 0.41562562323252444\n",
      "Whisper Large v3 on RTX 3090 Ti correlation between audio length and realtime factor: 0.4979770407666338\n",
      "Distil Whisper Large v2 on RTX 3090 Ti correlation between audio length and realtime factor: 0.44918376834979473\n",
      "Whisper Large v3 on RTX 4060 correlation between audio length and realtime factor: 0.22467481926567126\n",
      "Distil Whisper Large v2 on RTX 4060 correlation between audio length and realtime factor: 0.42232689608524365\n",
      "Whisper Large v3 on RTX 4060 Laptop correlation between audio length and realtime factor: 0.058832831024319784\n",
      "Distil Whisper Large v2 on RTX 4060 Laptop correlation between audio length and realtime factor: 0.44122591002784517\n",
      "Whisper Large v3 on RTX 4060 Ti correlation between audio length and realtime factor: 0.27387894784165556\n",
      "Distil Whisper Large v2 on RTX 4060 Ti correlation between audio length and realtime factor: 0.43790129725756727\n",
      "Whisper Large v3 on RTX 4070 correlation between audio length and realtime factor: 0.42357898111151154\n",
      "Distil Whisper Large v2 on RTX 4070 correlation between audio length and realtime factor: 0.4424347830524425\n",
      "Whisper Large v3 on RTX 4070 Laptop correlation between audio length and realtime factor: nan\n",
      "Distil Whisper Large v2 on RTX 4070 Laptop correlation between audio length and realtime factor: 0.4123767635359218\n",
      "Whisper Large v3 on RTX 4070 Ti correlation between audio length and realtime factor: 0.425882720249181\n",
      "Distil Whisper Large v2 on RTX 4070 Ti correlation between audio length and realtime factor: 0.47677575237145425\n",
      "Whisper Large v3 on RTX 4080 correlation between audio length and realtime factor: 0.4547303865121607\n",
      "Distil Whisper Large v2 on RTX 4080 correlation between audio length and realtime factor: 0.4137844591444644\n",
      "Whisper Large v3 on RTX 4090 correlation between audio length and realtime factor: 0.37456928402827594\n",
      "Distil Whisper Large v2 on RTX 4090 correlation between audio length and realtime factor: 0.8360741183502527\n",
      "Whisper Large v3 on RTX 4090 Laptop correlation between audio length and realtime factor: nan\n",
      "Distil Whisper Large v2 on RTX 4090 Laptop correlation between audio length and realtime factor: 0.5021502921199209\n"
     ]
    }
   ],
   "source": [
    "for gpu in all_gpus:\n",
    "    whisper_gpu_df = whisper_df[whisper_df[\"gpu-name\"] == gpu]\n",
    "    distil_gpu_df = distil_df[distil_df[\"gpu-name\"] == gpu]\n",
    "    \n",
    "    # within each gpu type, plot the relationship between audio length and processing time\n",
    "    whisper_fig = px.scatter(whisper_gpu_df, x=\"audio-length\", y=\"realtime-factor\", title=f\"Whisper Large v3 on {gpu}\", color_discrete_sequence=[salad_green])\n",
    "    whisper_fig.update_layout(\n",
    "        title_text=f\"Whisper Large v3 on {gpu}\",\n",
    "        title_font=dict(size=32),\n",
    "        xaxis_title=\"Audio Length (seconds)\",\n",
    "        xaxis_title_font=dict(size=24),\n",
    "        yaxis_title=\"Realtime Factor\",\n",
    "        yaxis_title_font=dict(size=24),\n",
    "        xaxis=dict(tickfont=dict(size=18)),\n",
    "        yaxis=dict(tickfont=dict(size=18)),\n",
    "    )\n",
    "    whisper_fig.write_image(f\"images/whisper_large_v3_{gpu}.jpg\", width=1920, height=768)\n",
    "    whisper_correlation = whisper_gpu_df[\"audio-length\"].corr(whisper_gpu_df[\"realtime-factor\"])\n",
    "    print(f\"Whisper Large v3 on {gpu} correlation between audio length and realtime factor: {whisper_correlation}\")\n",
    "    \n",
    "    distil_fig = px.scatter(distil_gpu_df, x=\"audio-length\", y=\"realtime-factor\", title=f\"Distil Whisper Large v2 on {gpu}\", color_discrete_sequence=[salad_green])\n",
    "    distil_fig.update_layout(\n",
    "        title_text=f\"Distil Whisper Large v2 on {gpu}\",\n",
    "        title_font=dict(size=32),\n",
    "        xaxis_title=\"Audio Length (seconds)\",\n",
    "        xaxis_title_font=dict(size=24),\n",
    "        yaxis_title=\"Realtime Factor\",\n",
    "        yaxis_title_font=dict(size=24),\n",
    "        xaxis=dict(tickfont=dict(size=18)),\n",
    "        yaxis=dict(tickfont=dict(size=18)),\n",
    "    )\n",
    "    distil_fig.write_image(f\"images/distil_whisper_large_v2_{gpu}.jpg\", width=1920, height=768)\n",
    "    distil_correlation = distil_gpu_df[\"audio-length\"].corr(distil_gpu_df[\"realtime-factor\"])\n",
    "    print(f\"Distil Whisper Large v2 on {gpu} correlation between audio length and realtime factor: {distil_correlation}\")"
   ]
  },
  {
   "cell_type": "code",
   "execution_count": null,
   "metadata": {},
   "outputs": [],
   "source": [
    "\n",
    "    "
   ]
  }
 ],
 "metadata": {
  "kernelspec": {
   "display_name": ".venv",
   "language": "python",
   "name": "python3"
  },
  "language_info": {
   "codemirror_mode": {
    "name": "ipython",
    "version": 3
   },
   "file_extension": ".py",
   "mimetype": "text/x-python",
   "name": "python",
   "nbconvert_exporter": "python",
   "pygments_lexer": "ipython3",
   "version": "3.10.12"
  }
 },
 "nbformat": 4,
 "nbformat_minor": 2
}
