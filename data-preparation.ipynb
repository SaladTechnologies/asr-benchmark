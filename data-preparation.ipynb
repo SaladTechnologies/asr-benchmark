{
 "cells": [
  {
   "cell_type": "code",
   "execution_count": null,
   "metadata": {},
   "outputs": [],
   "source": [
    "%pip install aioboto3 pandas requests pillow boto3"
   ]
  },
  {
   "cell_type": "code",
   "execution_count": 1,
   "metadata": {},
   "outputs": [],
   "source": [
    "from utils import queue_jobs, list_all_objects, get_file_from_bucket\n",
    "import pandas as pd\n",
    "import boto3\n",
    "import itertools\n",
    "\n",
    "asset_base_url = \"https://salad-benchmark-assets.download/\"\n",
    "\n",
    "# Create an s3 client using the \"r2\" profile name\n",
    "session = boto3.Session(profile_name=\"r2\")\n",
    "s3 = session.client(\"s3\")\n",
    "\n",
    "for obj in itertools.islice(list_all_objects(s3, \"salad-benchmark-public-assets\", \"ava/\"), 10):\n",
    "    key = obj[\"Key\"]\n",
    "    download_url = asset_base_url + key\n",
    "    print(download_url)"
   ]
  }
 ],
 "metadata": {
  "kernelspec": {
   "display_name": "Python 3",
   "language": "python",
   "name": "python3"
  },
  "language_info": {
   "codemirror_mode": {
    "name": "ipython",
    "version": 3
   },
   "file_extension": ".py",
   "mimetype": "text/x-python",
   "name": "python",
   "nbconvert_exporter": "python",
   "pygments_lexer": "ipython3",
   "version": "3.10.12"
  }
 },
 "nbformat": 4,
 "nbformat_minor": 2
}
